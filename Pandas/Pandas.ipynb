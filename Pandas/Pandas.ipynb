{
  "cells": [
    {
      "cell_type": "markdown",
      "metadata": {
        "id": "Z1HRPLW9pYug"
      },
      "source": [
        "# Pandas\n",
        "Introduzione alla libreria **Pandas**."
      ]
    },
    {
      "cell_type": "markdown",
      "source": [
        "# Descrizione del dataset\n",
        "\n",
        "Il dataset è relativo a un impianto fotovoltaico reale di 960 kWP ubicato a Lecce. Il dataset:\n",
        "\n",
        "- contiene circa 15000 record relativi a medie orarie su un periodo di poco meno di 2 anni (500 giorni);\n",
        "-  la variabile **indipendente** è costituita dal vettore 6-dimensionale [Ora, Data, Temperatura ambiente, Temperatura dei moduli, Irraggiamento dei pannelli inclinati a 3 gradi, Irraggiamento dei pannelli inclinati a 15 gradi];\n",
        "-  la **variabile dipendente** (valore *target*) è costituita dalla produzione in kWH dell'impianto in una determinata ora.\n",
        "\n",
        "Di seguito vengono forniti i riferimenti per ulteriori approfondimenti:\n",
        "- M. Malvoni, M. G. De Giorgi, P. M. Congedo, [*Data on photovoltaic powerforecasting models for Mediterranean climate*](https://www.sciencedirect.com/science/article/pii/S2352340916302773), Data in Brief, 2016.\n",
        "- M. G. De Giorgi, M. Malvoni, P. M. Congedo, [*Comparison of strategies for multi-step ahead photovoltaic power forecasting models based on hybrid group method of data handling networks and least square support vector machine*](https://www.sciencedirect.com/science/article/abs/pii/S0360544216304261), Energy, 2016."
      ],
      "metadata": {
        "id": "uNU4iZLdpimo"
      }
    },
    {
      "cell_type": "markdown",
      "metadata": {
        "id": "2qNkaI_UpYug"
      },
      "source": [
        "# Pandas\n",
        "**Pandas** è una libreria python per la manipolazione e analisi di dati multidimensionali. Fornisce diversi metodi per la visualizzazione e analisi statistica dei dati e pertanto risulta molto utile per condurre un'esplorazione iniziale. È in grado di caricare dataset forniti nei formati più conosciuti ed è in grado di gestire feature eterogenee e serie temporali.\n",
        "\n",
        "Il codice contenuto nella cella seguente esegue l'import della libreria. Per convenzione la libreria è solitamente importata con il nome **pd**."
      ]
    },
    {
      "cell_type": "code",
      "execution_count": null,
      "metadata": {
        "id": "D5pWpqptpYuh"
      },
      "outputs": [],
      "source": [
        "import numpy as np\n",
        "import pandas as pd\n",
        "import datetime as dt\n",
        "\n",
        "from sklearn.linear_model import LinearRegression \n",
        "from sklearn.ensemble import RandomForestRegressor\n",
        "from sklearn.metrics import mean_squared_error\n",
        "from sklearn.model_selection import train_test_split\n",
        "\n",
        "import matplotlib.pyplot as plt"
      ]
    },
    {
      "cell_type": "markdown",
      "metadata": {
        "id": "d2hV0FzKpYui"
      },
      "source": [
        "Pandas è in grado di caricare dataset in formato CSV attraverso la funzione **read_csv(...)**. Questa funzione carica in memoria il contenuto del file restituendo una istanza della classe **DataFrame**. A differenza degli **ndarray**, nei **DataFrame** ogni colonna (feature) è identificata da un nome (definito nell'*header* del CSV) e ogni feature può essere di tipo differente.\n",
        "\n",
        "La cella seguente mostra come richiamare **read_csv(...)** per caricare un dataset in memoria."
      ]
    },
    {
      "cell_type": "code",
      "execution_count": null,
      "metadata": {
        "id": "LafuOe78pYui",
        "outputId": "4753ddc4-7eb0-4147-a3c0-5beb4eb96e36"
      },
      "outputs": [
        {
          "name": "stdout",
          "output_type": "stream",
          "text": [
            "<class 'pandas.core.frame.DataFrame'>\n"
          ]
        }
      ],
      "source": [
        "filePath = './DBs/SolarPark/train.txt'\n",
        "\n",
        "dataframe = pd.read_csv(filePath)\n",
        "print(type(dataframe))"
      ]
    },
    {
      "cell_type": "markdown",
      "metadata": {
        "id": "AITzXvJypYuj"
      },
      "source": [
        "## Esplorazione dei dati\n",
        "\n",
        "La classe **DataFrame** espone diversi metodi per ottenere informazioni di sintesi riguardanti i dati appena caricati.\n",
        "\n",
        "Il metodo **.info()** permette di stampare a video cardinalità, features e tipi di dati caricati."
      ]
    },
    {
      "cell_type": "code",
      "execution_count": null,
      "metadata": {
        "id": "qtuBk7C_pYuj",
        "outputId": "6dbc4519-0cb7-4465-c3ae-548b31f0b7b4"
      },
      "outputs": [
        {
          "name": "stdout",
          "output_type": "stream",
          "text": [
            "<class 'pandas.core.frame.DataFrame'>\n",
            "RangeIndex: 7902 entries, 0 to 7901\n",
            "Data columns (total 7 columns):\n",
            " #   Column      Non-Null Count  Dtype  \n",
            "---  ------      --------------  -----  \n",
            " 0   Time Frame  7902 non-null   int64  \n",
            " 1   Date        7902 non-null   object \n",
            " 2   Ta (C)      7902 non-null   float64\n",
            " 3   Tm (C)      7902 non-null   float64\n",
            " 4   I3 (W/m2)   7902 non-null   float64\n",
            " 5   I15 (W/m2)  7902 non-null   float64\n",
            " 6   P (kW)      7902 non-null   float64\n",
            "dtypes: float64(5), int64(1), object(1)\n",
            "memory usage: 432.3+ KB\n"
          ]
        }
      ],
      "source": [
        "# Stampa di informazioni sulle features (colonne): cardinalità e tipo\n",
        "dataframe.info()"
      ]
    },
    {
      "cell_type": "markdown",
      "metadata": {
        "id": "7P6ZWwvxpYuk"
      },
      "source": [
        "Il metodo **.describe()** restituisce un insieme di informazioni statistiche riguardanti le diverse feature. Vengono riportati i valori minimi e massimi così come la media, la deviazione standard e il 25-, 50-, 75- e 100-percentile. Si noti come Jupyter sia in grado di individuare e formattare ad-hoc il risultato di **.describe()**."
      ]
    },
    {
      "cell_type": "code",
      "execution_count": null,
      "metadata": {
        "id": "IcuvbheupYuk",
        "outputId": "bd70a891-cb51-4f15-b6d3-41a6851c8160"
      },
      "outputs": [
        {
          "data": {
            "text/html": [
              "<div>\n",
              "<style scoped>\n",
              "    .dataframe tbody tr th:only-of-type {\n",
              "        vertical-align: middle;\n",
              "    }\n",
              "\n",
              "    .dataframe tbody tr th {\n",
              "        vertical-align: top;\n",
              "    }\n",
              "\n",
              "    .dataframe thead th {\n",
              "        text-align: right;\n",
              "    }\n",
              "</style>\n",
              "<table border=\"1\" class=\"dataframe\">\n",
              "  <thead>\n",
              "    <tr style=\"text-align: right;\">\n",
              "      <th></th>\n",
              "      <th>Time Frame</th>\n",
              "      <th>Ta (C)</th>\n",
              "      <th>Tm (C)</th>\n",
              "      <th>I3 (W/m2)</th>\n",
              "      <th>I15 (W/m2)</th>\n",
              "      <th>P (kW)</th>\n",
              "    </tr>\n",
              "  </thead>\n",
              "  <tbody>\n",
              "    <tr>\n",
              "      <th>count</th>\n",
              "      <td>7902.000000</td>\n",
              "      <td>7902.000000</td>\n",
              "      <td>7902.000000</td>\n",
              "      <td>7902.000000</td>\n",
              "      <td>7902.000000</td>\n",
              "      <td>7902.000000</td>\n",
              "    </tr>\n",
              "    <tr>\n",
              "      <th>mean</th>\n",
              "      <td>12.492407</td>\n",
              "      <td>15.089675</td>\n",
              "      <td>17.755080</td>\n",
              "      <td>203.455206</td>\n",
              "      <td>214.903907</td>\n",
              "      <td>161.668209</td>\n",
              "    </tr>\n",
              "    <tr>\n",
              "      <th>std</th>\n",
              "      <td>6.917957</td>\n",
              "      <td>11.683758</td>\n",
              "      <td>16.641611</td>\n",
              "      <td>291.878650</td>\n",
              "      <td>306.698855</td>\n",
              "      <td>234.276655</td>\n",
              "    </tr>\n",
              "    <tr>\n",
              "      <th>min</th>\n",
              "      <td>1.000000</td>\n",
              "      <td>-1.460000</td>\n",
              "      <td>-7.130000</td>\n",
              "      <td>0.000000</td>\n",
              "      <td>0.000000</td>\n",
              "      <td>0.000000</td>\n",
              "    </tr>\n",
              "    <tr>\n",
              "      <th>25%</th>\n",
              "      <td>6.000000</td>\n",
              "      <td>0.000000</td>\n",
              "      <td>0.000000</td>\n",
              "      <td>0.000000</td>\n",
              "      <td>0.000000</td>\n",
              "      <td>0.000000</td>\n",
              "    </tr>\n",
              "    <tr>\n",
              "      <th>50%</th>\n",
              "      <td>12.000000</td>\n",
              "      <td>15.535000</td>\n",
              "      <td>14.885000</td>\n",
              "      <td>8.545000</td>\n",
              "      <td>9.785000</td>\n",
              "      <td>4.295000</td>\n",
              "    </tr>\n",
              "    <tr>\n",
              "      <th>75%</th>\n",
              "      <td>18.000000</td>\n",
              "      <td>24.037500</td>\n",
              "      <td>28.637500</td>\n",
              "      <td>364.795000</td>\n",
              "      <td>380.785000</td>\n",
              "      <td>292.362500</td>\n",
              "    </tr>\n",
              "    <tr>\n",
              "      <th>max</th>\n",
              "      <td>24.000000</td>\n",
              "      <td>43.530000</td>\n",
              "      <td>70.140000</td>\n",
              "      <td>1031.550000</td>\n",
              "      <td>1051.230000</td>\n",
              "      <td>806.610000</td>\n",
              "    </tr>\n",
              "  </tbody>\n",
              "</table>\n",
              "</div>"
            ],
            "text/plain": [
              "        Time Frame       Ta (C)       Tm (C)    I3 (W/m2)   I15 (W/m2)  \\\n",
              "count  7902.000000  7902.000000  7902.000000  7902.000000  7902.000000   \n",
              "mean     12.492407    15.089675    17.755080   203.455206   214.903907   \n",
              "std       6.917957    11.683758    16.641611   291.878650   306.698855   \n",
              "min       1.000000    -1.460000    -7.130000     0.000000     0.000000   \n",
              "25%       6.000000     0.000000     0.000000     0.000000     0.000000   \n",
              "50%      12.000000    15.535000    14.885000     8.545000     9.785000   \n",
              "75%      18.000000    24.037500    28.637500   364.795000   380.785000   \n",
              "max      24.000000    43.530000    70.140000  1031.550000  1051.230000   \n",
              "\n",
              "            P (kW)  \n",
              "count  7902.000000  \n",
              "mean    161.668209  \n",
              "std     234.276655  \n",
              "min       0.000000  \n",
              "25%       0.000000  \n",
              "50%       4.295000  \n",
              "75%     292.362500  \n",
              "max     806.610000  "
            ]
          },
          "execution_count": 4,
          "metadata": {},
          "output_type": "execute_result"
        }
      ],
      "source": [
        "# Stampa delle statistiche aggregate sulle features\n",
        "dataframe.describe()\n",
        "\n",
        "# Jupyter gestisce direttamente il risultato di describe() presentandolo adeguatamente\n",
        "# Si noti la differenza di output decommentando la seguente riga:\n",
        "#print(dataframe.describe())"
      ]
    },
    {
      "cell_type": "markdown",
      "metadata": {
        "id": "14snezNOpYuk"
      },
      "source": [
        "Allo stesso modo è possibile visualizzare alcuni dei pattern relativi al **DataFrame**. \n",
        "L'output della cella seguente mostrerà alcuni dei primi e ultimi pattern del dataset. Da questa prima esplorazione risulta chiaro che i pattern sono ordinati temporalmente."
      ]
    },
    {
      "cell_type": "code",
      "execution_count": null,
      "metadata": {
        "scrolled": true,
        "id": "5tLx8jSTpYuk",
        "outputId": "03df0a1d-8514-4dde-fe8f-93f6d50987e9"
      },
      "outputs": [
        {
          "data": {
            "text/html": [
              "<div>\n",
              "<style scoped>\n",
              "    .dataframe tbody tr th:only-of-type {\n",
              "        vertical-align: middle;\n",
              "    }\n",
              "\n",
              "    .dataframe tbody tr th {\n",
              "        vertical-align: top;\n",
              "    }\n",
              "\n",
              "    .dataframe thead th {\n",
              "        text-align: right;\n",
              "    }\n",
              "</style>\n",
              "<table border=\"1\" class=\"dataframe\">\n",
              "  <thead>\n",
              "    <tr style=\"text-align: right;\">\n",
              "      <th></th>\n",
              "      <th>Time Frame</th>\n",
              "      <th>Date</th>\n",
              "      <th>Ta (C)</th>\n",
              "      <th>Tm (C)</th>\n",
              "      <th>I3 (W/m2)</th>\n",
              "      <th>I15 (W/m2)</th>\n",
              "      <th>P (kW)</th>\n",
              "    </tr>\n",
              "  </thead>\n",
              "  <tbody>\n",
              "    <tr>\n",
              "      <th>0</th>\n",
              "      <td>16</td>\n",
              "      <td>3/5/12 4:55 PM</td>\n",
              "      <td>13.01</td>\n",
              "      <td>12.05</td>\n",
              "      <td>52.47</td>\n",
              "      <td>53.08</td>\n",
              "      <td>6.50</td>\n",
              "    </tr>\n",
              "    <tr>\n",
              "      <th>1</th>\n",
              "      <td>17</td>\n",
              "      <td>3/5/12 5:55 PM</td>\n",
              "      <td>11.81</td>\n",
              "      <td>8.50</td>\n",
              "      <td>10.41</td>\n",
              "      <td>10.95</td>\n",
              "      <td>0.01</td>\n",
              "    </tr>\n",
              "    <tr>\n",
              "      <th>2</th>\n",
              "      <td>18</td>\n",
              "      <td>3/5/12 6:55 PM</td>\n",
              "      <td>10.33</td>\n",
              "      <td>5.68</td>\n",
              "      <td>0.00</td>\n",
              "      <td>0.00</td>\n",
              "      <td>0.00</td>\n",
              "    </tr>\n",
              "    <tr>\n",
              "      <th>3</th>\n",
              "      <td>19</td>\n",
              "      <td>3/5/12 7:55 PM</td>\n",
              "      <td>9.66</td>\n",
              "      <td>4.67</td>\n",
              "      <td>0.00</td>\n",
              "      <td>0.00</td>\n",
              "      <td>0.00</td>\n",
              "    </tr>\n",
              "    <tr>\n",
              "      <th>4</th>\n",
              "      <td>20</td>\n",
              "      <td>3/5/12 8:55 PM</td>\n",
              "      <td>8.91</td>\n",
              "      <td>3.82</td>\n",
              "      <td>0.00</td>\n",
              "      <td>0.00</td>\n",
              "      <td>0.00</td>\n",
              "    </tr>\n",
              "    <tr>\n",
              "      <th>...</th>\n",
              "      <td>...</td>\n",
              "      <td>...</td>\n",
              "      <td>...</td>\n",
              "      <td>...</td>\n",
              "      <td>...</td>\n",
              "      <td>...</td>\n",
              "      <td>...</td>\n",
              "    </tr>\n",
              "    <tr>\n",
              "      <th>7897</th>\n",
              "      <td>2</td>\n",
              "      <td>2/1/13 9:45 PM</td>\n",
              "      <td>0.00</td>\n",
              "      <td>0.00</td>\n",
              "      <td>0.00</td>\n",
              "      <td>0.00</td>\n",
              "      <td>0.00</td>\n",
              "    </tr>\n",
              "    <tr>\n",
              "      <th>7898</th>\n",
              "      <td>3</td>\n",
              "      <td>2/1/13 9:45 PM</td>\n",
              "      <td>0.00</td>\n",
              "      <td>0.00</td>\n",
              "      <td>0.00</td>\n",
              "      <td>0.00</td>\n",
              "      <td>0.00</td>\n",
              "    </tr>\n",
              "    <tr>\n",
              "      <th>7899</th>\n",
              "      <td>4</td>\n",
              "      <td>2/2/13 4:55 AM</td>\n",
              "      <td>10.25</td>\n",
              "      <td>6.83</td>\n",
              "      <td>0.00</td>\n",
              "      <td>0.00</td>\n",
              "      <td>0.00</td>\n",
              "    </tr>\n",
              "    <tr>\n",
              "      <th>7900</th>\n",
              "      <td>5</td>\n",
              "      <td>2/2/13 5:55 AM</td>\n",
              "      <td>10.54</td>\n",
              "      <td>8.06</td>\n",
              "      <td>0.00</td>\n",
              "      <td>0.00</td>\n",
              "      <td>0.00</td>\n",
              "    </tr>\n",
              "    <tr>\n",
              "      <th>7901</th>\n",
              "      <td>6</td>\n",
              "      <td>2/2/13 6:55 AM</td>\n",
              "      <td>10.42</td>\n",
              "      <td>7.67</td>\n",
              "      <td>0.00</td>\n",
              "      <td>0.00</td>\n",
              "      <td>0.01</td>\n",
              "    </tr>\n",
              "  </tbody>\n",
              "</table>\n",
              "<p>7902 rows × 7 columns</p>\n",
              "</div>"
            ],
            "text/plain": [
              "      Time Frame            Date  Ta (C)  Tm (C)  I3 (W/m2)  I15 (W/m2)  \\\n",
              "0             16  3/5/12 4:55 PM   13.01   12.05      52.47       53.08   \n",
              "1             17  3/5/12 5:55 PM   11.81    8.50      10.41       10.95   \n",
              "2             18  3/5/12 6:55 PM   10.33    5.68       0.00        0.00   \n",
              "3             19  3/5/12 7:55 PM    9.66    4.67       0.00        0.00   \n",
              "4             20  3/5/12 8:55 PM    8.91    3.82       0.00        0.00   \n",
              "...          ...             ...     ...     ...        ...         ...   \n",
              "7897           2  2/1/13 9:45 PM    0.00    0.00       0.00        0.00   \n",
              "7898           3  2/1/13 9:45 PM    0.00    0.00       0.00        0.00   \n",
              "7899           4  2/2/13 4:55 AM   10.25    6.83       0.00        0.00   \n",
              "7900           5  2/2/13 5:55 AM   10.54    8.06       0.00        0.00   \n",
              "7901           6  2/2/13 6:55 AM   10.42    7.67       0.00        0.00   \n",
              "\n",
              "      P (kW)  \n",
              "0       6.50  \n",
              "1       0.01  \n",
              "2       0.00  \n",
              "3       0.00  \n",
              "4       0.00  \n",
              "...      ...  \n",
              "7897    0.00  \n",
              "7898    0.00  \n",
              "7899    0.00  \n",
              "7900    0.00  \n",
              "7901    0.01  \n",
              "\n",
              "[7902 rows x 7 columns]"
            ]
          },
          "execution_count": 153,
          "metadata": {},
          "output_type": "execute_result"
        }
      ],
      "source": [
        "dataframe"
      ]
    },
    {
      "cell_type": "code",
      "execution_count": null,
      "metadata": {
        "id": "emMhDoSnpYul",
        "outputId": "a59c9703-ebe2-4d41-8ad7-bfd73c27527d"
      },
      "outputs": [
        {
          "name": "stdout",
          "output_type": "stream",
          "text": [
            "[13.01 11.81 10.33 ... 10.25 10.54 10.42]\n"
          ]
        }
      ],
      "source": [
        "print(dataframe[\"Ta (C)\"].values)"
      ]
    },
    {
      "cell_type": "markdown",
      "metadata": {
        "id": "jawkyX0TpYul"
      },
      "source": [
        "Essendo Pandas ampiamente utilizzato in ambito Machine Learning e Data Science, son disponibili *plugin* o customizzazioni di Jupyter per permettere un'esplorazione più interattiva dei dati. Ad esempio, Google Colaboratory offre [un'estensione ad hoc](https://twitter.com/GoogleColab/status/1190349318617583616) per trattare la visualizzazione di **DataFrame**.\n",
        "\n",
        "Inoltre, la classe **DataFrame** offre la possibilità di visualizzare graficamente la distribuzione dei valori delle feature sotto forma di istogrammi. Attraverso la visualizzazione grafica della distribuzione dei valori è possibile individuare tra le varie cose anomalie e la presenza di dati mancanti.\n",
        "\n",
        "La visualizzazione grafica è demandata alla libreria Matplotlib."
      ]
    },
    {
      "cell_type": "code",
      "execution_count": null,
      "metadata": {
        "scrolled": false,
        "id": "JrcKgk88pYul",
        "outputId": "37d6a5e3-3249-4f00-c9c9-dcfe5cef033e"
      },
      "outputs": [
        {
          "data": {
            "image/png": "[encoded data removed]",
            "text/plain": [
              "<Figure size 1440x1080 with 6 Axes>"
            ]
          },
          "metadata": {
            "needs_background": "light"
          },
          "output_type": "display_data"
        }
      ],
      "source": [
        "# Visualizzazione grafica della distribuzione dei valori delle features (istogrammi)\n",
        "dataframe.hist(bins=50, figsize=(20,15))\n",
        "plt.show()"
      ]
    },
    {
      "cell_type": "markdown",
      "metadata": {
        "id": "vUbptHPGpYum"
      },
      "source": [
        "Durante la prima analisi dei dati può essere utile individuare eventuali correlazioni tra le diverse feature. È possibile utilizzare il metodo **.corr()** per calcolare i coefficienti di correlazione. Nella cella seguente verranno stampati a video i coefficienti relativi alla correlazione tra le diverse feature rispetto all'etichetta \"P (kW)\"."
      ]
    },
    {
      "cell_type": "code",
      "execution_count": null,
      "metadata": {
        "id": "Aj6Kkdl2pYum",
        "outputId": "3b8df2bc-a67b-4514-c39d-a2725b26d52a"
      },
      "outputs": [
        {
          "name": "stdout",
          "output_type": "stream",
          "text": [
            "I3 (W/m2)     1.000000\n",
            "I15 (W/m2)    0.994493\n",
            "P (kW)        0.986053\n",
            "Tm (C)        0.751344\n",
            "Ta (C)        0.596926\n",
            "Time Frame   -0.174459\n",
            "Name: I3 (W/m2), dtype: float64\n"
          ]
        }
      ],
      "source": [
        "# Calcolo dei coefficienti di correlazione tra le features\n",
        "corr_matrix = dataframe.corr()\n",
        "\n",
        "# Stampa dei coefficienti di correlazione tra le features e \"P (kW)\"\n",
        "print(corr_matrix[\"I3 (W/m2)\"].sort_values(ascending = False))"
      ]
    },
    {
      "cell_type": "markdown",
      "metadata": {
        "id": "253YA5-vpYum"
      },
      "source": [
        "## Preprocessing dei dati\n",
        "I dati contenuti nel **DataFrame** appena caricato non possono essere usati direttamente per l'addestramento di un modello di Machine Learning: la presenza di feature eterogenee (stringhe, interi e numeri floating point) deve essere gestita attraverso un'opportuna fase di *preprocessing*. In questa fase si avrà anche la possibilità di estrarre maggiori informazioni dai dati composti (come le date).\n",
        "\n",
        "Ad esempio, la cella seguente mostra come sia possibile gestire le date (attualmente memorizzate sotto forma di stringa) per ottenere informazioni significative. La conversione da stringa a oggetto **Timestamp** è demandata alla funzione **to_datetime(...)**."
      ]
    },
    {
      "cell_type": "code",
      "execution_count": null,
      "metadata": {
        "id": "5JM6mZ-5pYum",
        "outputId": "b140353a-ce15-4e14-f12c-7e2f237c9c14"
      },
      "outputs": [
        {
          "name": "stdout",
          "output_type": "stream",
          "text": [
            "Stringa datetime: 3/5/12 4:55 PM\n",
            "<class 'pandas._libs.tslibs.timestamps.Timestamp'>\n",
            "Datetime nel formato \"anno-mese-giorno orario\": 2012-03-05 16:55:00\n",
            "Giorno dell'anno: 65\n",
            "Mese dell'anno: 3\n"
          ]
        }
      ],
      "source": [
        "# Ottiene la stringa Date (colonna 1) del primo pattern\n",
        "datetime_str = dataframe.values[:,1][0]  \n",
        "print('Stringa datetime:', datetime_str)\n",
        "\n",
        "# Conversione da stringa a oggetto Timestamp\n",
        "datetime = pd.to_datetime(datetime_str, format='%m/%d/%y %I:%M %p')\n",
        "print(type(datetime))\n",
        "print('Datetime nel formato \"anno-mese-giorno orario\":', datetime)\n",
        "\n",
        "# Stampa di informazioni relative alla data\n",
        "print('Giorno dell\\'anno:', datetime.timetuple().tm_yday)\n",
        "print('Mese dell\\'anno:', datetime.month)"
      ]
    },
    {
      "cell_type": "markdown",
      "metadata": {
        "id": "P_P8hgMNpYun"
      },
      "source": [
        "Per poter addestrare un modello di Machine Learning è necessario convertire i dati del **DataFrame** in valori numerici e memorizzarli in un **ndarray**. Durante questa procedura sarà possibile estrarre maggiori informazioni, come visto nella cella precedente.\n",
        "\n",
        "La cella successiva converte il **DataFrame** iniziale in un **ndarray** e opzionalmente esegue alcune operazioni per estrarre alcune informazioni aggiuntive dalla data.\n",
        "\n",
        "Si noti l'uso dell'operatore [**_c\\[...\\]**](https://docs.scipy.org/doc/numpy/reference/generated/numpy.c_.html): questo permette di concatenare più **ndarray** ottenendone uno nuovo che contiene lo stesso numero di righe ma le cui colonne sono la concatenazione di quelle degli **ndarray** originali. Per comparazione, [**concatenate(...)**](https://docs.scipy.org/doc/numpy/reference/generated/numpy.concatenate.html) invece permette di concatenare più **ndarray** per riga."
      ]
    },
    {
      "cell_type": "code",
      "execution_count": null,
      "metadata": {
        "id": "qimmMUNRpYun",
        "outputId": "f2f93ba0-2322-4b89-83f7-b5b8e26d9e08"
      },
      "outputs": [
        {
          "name": "stdout",
          "output_type": "stream",
          "text": [
            "Shape del dataset: (7902, 6)\n",
            "Primo pattern del dataset: [13.01 12.05 52.47 53.08 16.    3.  ]\n",
            "Shape delle etichette: (7902,)\n",
            "Etichetta del primo pattern: 6.5\n"
          ]
        }
      ],
      "source": [
        "include_time_data = True\n",
        "\n",
        "if include_time_data:\n",
        "    datetime_strings = dataframe.values[:,1]\n",
        "    \n",
        "    # Converte tutte le stringhe in oggetti Timestamp\n",
        "    datetimes = [pd.to_datetime(datetime, format='%m/%d/%y %I:%M %p') for datetime in datetime_strings]\n",
        "    \n",
        "    # Estrae alcune informazioni dagli oggetti Timestamp\n",
        "    month = [datetime.month for datetime in datetimes]  # Meglio usare il mese se split temporale sequenziale\n",
        "    yday = [datetime.timetuple().tm_yday for datetime in datetimes]  # Giorno dell'anno (se split random)\n",
        "    # print(month)\n",
        "    # print(yday)\n",
        "\n",
        "# feature_x conterrà tutti i campi (esclusi Time Frame, Data e Potenza prodotta)\n",
        "# Reminder: colonna 0 = Time Frame, colonna 1 = date, colonna 6 = potenza prodotta\n",
        "feature_x = dataframe.values[:,2:6]\n",
        "\n",
        "# Se include_time_data è True, include nel dataset anche le features relative alla data\n",
        "# Nota: come orario è meglio utilizzare l'ordinale della colonna Time Frame (evita alcuni errori sui dati)\n",
        "if include_time_data:\n",
        "    #feature_x = np.c_[feature_x, dataframe.values[:,0]] # Include solamente il Time Frame\n",
        "    feature_x = np.c_[feature_x, dataframe.values[:,0], month] # Include il Time Frame e il mese\n",
        "    #feature_x = np.c_[feature_x, dataframe.values[:,0], yday] # Include il Time Frame e il giorno dell'anno\n",
        "    \n",
        "# Estrae le etichette dal dataframe\n",
        "feature_y = dataframe.values[:,6]   # Colonna 6: \"P (kW)\"\n",
        "\n",
        "# Cast di tutti i valori a float32\n",
        "feature_x = feature_x.astype(np.float32)\n",
        "feature_y = feature_y.astype(np.float32)\n",
        "\n",
        "# Alcune stampe di riepilogo\n",
        "print('Shape del dataset:', feature_x.shape)\n",
        "print('Primo pattern del dataset:', feature_x[0])\n",
        "print('Shape delle etichette:', feature_y.shape)\n",
        "print('Etichetta del primo pattern:', feature_y[0])"
      ]
    },
    {
      "cell_type": "markdown",
      "metadata": {
        "id": "Ct75JRJzpYun"
      },
      "source": [
        "## Predizione all'ora successiva\n",
        "In base al task da risolvere può essere richiesto di predire la quantità di energia prodotta nella stessa ora (ovvero l'etichetta dello stesso pattern) oppure di predire l'energia prodotta nell'ora successiva (ovvero l'etichetta del pattern successivo). Quest'ultimo scenario (*predict\\_ahead*) risulta più interessante e può essere gestito assegnando a ogni pattern l'etichetta del pattern successivo.\n",
        "\n",
        "Si noti come fino a questo punto i pattern del dataset non siano stati mescolati. In questa maniera è possibile modificare il dataset per allineare ogni pattern all'etichetta del pattern successivo utilizzando le istruzioni contenute nella seguente cella (in questo caso l'ultimo pattern verrà eliminato dal dataset)."
      ]
    },
    {
      "cell_type": "code",
      "execution_count": null,
      "metadata": {
        "id": "oajeqM0jpYuo",
        "outputId": "b5f04b5d-c22f-4ab4-81cb-970c0e2051ac"
      },
      "outputs": [
        {
          "name": "stdout",
          "output_type": "stream",
          "text": [
            "7901 7901\n"
          ]
        }
      ],
      "source": [
        "# Se predict_ahead è True i dati saranno preparati per lo scenario \"predict_ahead\"\n",
        "predict_ahead = True\n",
        "\n",
        "if predict_ahead:\n",
        "    # Sfasa i dati: le prediction sono quelle dell'ora successiva\n",
        "    data_x = feature_x[0:-1,:]\n",
        "    data_y = feature_y[1:]\n",
        "else:\n",
        "    data_x = feature_x\n",
        "    data_y = feature_y\n",
        "\n",
        "print(len(data_x), len(data_y))    \n",
        "# Nota: sfasando i dati si perde l'ultimo pattern\n",
        "\n",
        "# Calcolo dei coefficienti di correlazione tra le features\n",
        "corr_matrix = dataframe.corr()\n",
        "\n",
        "# Stampa dei coefficienti di correlazione tra le features e \"P (kW)\"\n",
        "print(corr_matrix[\"P (kW)\"].sort_values(ascending = False))"
      ]
    },
    {
      "cell_type": "markdown",
      "metadata": {
        "id": "ba6No1gxpYuo"
      },
      "source": [
        "## Split validation set\n",
        "È possibile suddividere il dataset originale in train e validation set secondo due differenti strategie:\n",
        "- la suddivisione casuale consiste nel selezionare casualmente i pattern da inserire nei due differenti set;\n",
        "- la suddivisione temporale consiste nel suddividere il set originale in due parti non sovrapposte temporalmente.\n",
        "\n",
        "Considerato che i pattern sono ordinati temporalmente, è possibile eseguire la seconda strategia operando un semplice *slicing* dei dati."
      ]
    },
    {
      "cell_type": "code",
      "execution_count": null,
      "metadata": {
        "id": "Hq-7T9dZpYuo"
      },
      "outputs": [],
      "source": [
        "valid_portion = 0.5\n",
        "split_random = False\n",
        "\n",
        "if split_random:\n",
        "    # Split casuale di train e validation set\n",
        "    train_x, validation_x, train_y, validation_y = train_test_split(data_x, data_y, test_size=valid_portion, random_state=1)\n",
        "else:    \n",
        "    # Split temporale\n",
        "    train_x, validation_x, train_y, validation_y = train_test_split(data_x, data_y, test_size=valid_portion, shuffle=False)"
      ]
    }
  ],
  "metadata": {
    "anaconda-cloud": {},
    "kernelspec": {
      "display_name": "Python 3",
      "language": "python",
      "name": "python3"
    },
    "language_info": {
      "codemirror_mode": {
        "name": "ipython",
        "version": 3
      },
      "file_extension": ".py",
      "mimetype": "text/x-python",
      "name": "python",
      "nbconvert_exporter": "python",
      "pygments_lexer": "ipython3",
      "version": "3.9.4"
    },
    "colab": {
      "provenance": []
    }
  },
  "nbformat": 4,
  "nbformat_minor": 0
}