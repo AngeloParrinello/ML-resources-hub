{
  "cells": [
    {
      "cell_type": "markdown",
      "metadata": {
        "id": "06GvQEa7vcAI"
      },
      "source": [
        "# Neural Network - MLP\n",
        "Applicheremo una rete *Multilayer Perceptron* (MLP) a un problema di classificazione di tracce audio in cui viene pronunciata una singola cifra (da 0 a 9, in italiano). L'obiettivo è quello di classificare la traccia audio in modo da predire:\n",
        "- A) la cifra che viene pronunciata (digit recognition). \n",
        "- B) la persona che l'ha pronunciata (speaker recognition).\n",
        "\n",
        "Dovremo definire l'architettura di una rete neurale in grado di risolvere il problema di classificazione e ottimizzare il suo training (in modo da massimizzare l’accuratezza sul dataset fornito)."
      ]
    },
    {
      "cell_type": "code",
      "execution_count": null,
      "metadata": {
        "id": "sG44pjGFvcAJ"
      },
      "outputs": [],
      "source": [
        "%matplotlib inline\n",
        "import matplotlib.pyplot as plt\n",
        "import numpy as np\n",
        "from sklearn.model_selection import train_test_split\n",
        "from sklearn.preprocessing import StandardScaler\n",
        "from sklearn.metrics import accuracy_score\n",
        "import os\n",
        "import time\n",
        "import IPython\n",
        "from ml_visualization import plot_confusion_matrix"
      ]
    },
    {
      "cell_type": "markdown",
      "metadata": {
        "id": "pEyZeB0vvcAK"
      },
      "source": [
        "# Dataset\n",
        "\n",
        "Il dataset è composto dalle tracce audio raccolte da 31 persone. Ciscuna persona ha registrato 10 tracce ripetendo i dieci digit in 4 sessioni diverse:\n",
        "- 1 - Ambiente silenzioso (condizioni ottimali)\n",
        "- 2 - Ambiente silenzioso (mattina poco dopo risveglio)\n",
        "- 3 - Ambiente rumoroso (ad esempio all'esterno con traffico)\n",
        "- 4 - Con rumore di fondo tipo TV o radio\n",
        "\n",
        "Il training set contiene le tracce delle sessioni 1 e 4, per un totale di 620 pattern (2 x 31 x 10). Il test set contiene le tracce delle sessioni 2 e 3, per un totale di 620 pattern (2 x 31 x 10). Il dataset è fornito sotto forma di blob NumPy.\n",
        "\n",
        "Non utilizzeremo i file audio grezzi perchè le reti MLP non sono in grado di gestire efficacemente dati multidimensionali di tale complessità. Pertanto sono state pre-estratte feature \"compatte\" come descritto nella cella seguente.\n",
        "\n"
      ]
    },
    {
      "cell_type": "markdown",
      "metadata": {
        "id": "rrzXt7aLvcAK"
      },
      "source": [
        "## Le feature utilizzate\n",
        "\n",
        "Il dataset consiste in un insieme di feature estratte dalle tracce audio. In particolare sono rese disponibili le MFCC, Chroma, Mean of Mel spectrogram, Spectral Contrast e Tonnetz.\n",
        "\n",
        "Tra le feature più utilizzate per il riconoscimento del parlato troviamo le **MFCC (Mel Frequency Cepstral Coefficients)**. Si tratta di una rappresentazione particolarmente adatta per il riconoscimento vocale in quanto condensa le informazioni della traccia originale cercando di estrarre le informazioni utilizzate dal sistema uditivo umano. Hanno il grande pregio di essere feature molto compatte e per questo particolarmente indicate per poter essere processate dai comuni algoritmi di Machine Learning.\n",
        "\n",
        "Per poter comprendere il contenuto delle MFCC è necessario prima di tutto comprendere come lo Spettrogramma di Mel viene calcolato ([qui una spiegazione semplificata](https://medium.com/analytics-vidhya/understanding-the-mel-spectrogram-fca2afa2ce53)). \n",
        "\n",
        "A partire dallo Spettrogramma di Mel è molto semplice ottenere le *MFCC* attraverso un'ulteriore trasformata coseno che decorrela i coefficienti dello spettrogramma ([spiegazione semplificata](https://medium.com/@tanveer9812/mfccs-made-easy-7ef383006040)).\n",
        "\n",
        "\n",
        "Oltre alle MFCC sono anche disponibili altre feature che potrebbero rivelarsi utili ai fini della classificazione delle tracce audio. Ogni pattern del dataset è un vettore composto da 173 feature *floating point*. Il vettore è così suddiviso:\n",
        "\n",
        "- Features [0:20): MFCC\n",
        "- Features [20:32): Chroma (https://en.wikipedia.org/wiki/Chroma_feature)\n",
        "- Features [32:160): Media dello Spettrogramma di Mel\n",
        "- Features [160:167): Spectral Contrast ([paper](http://hcsi.cs.tsinghua.edu.cn/Paper/Paper02/200218.pdf))\n",
        "- Features [167:173): Tonnetz ([paper](http://rose.ofai.at/~martin.gasser/papers/oefai-tr-2006-13.pdf))"
      ]
    },
    {
      "cell_type": "markdown",
      "metadata": {
        "id": "_g1PWUYlvcAL"
      },
      "source": [
        "## Caricamento\n",
        "Il training set viene fornito sotto forma di un unico file \"audio_ml2122_train.npy\" contenente sia le feature che le etichette di classe delle tracce audio. La procedura per il caricamento del dataset è fornita nella cella seguente."
      ]
    },
    {
      "cell_type": "code",
      "execution_count": null,
      "metadata": {
        "id": "MJDtVrprvcAL",
        "outputId": "621c25fb-8d74-4cae-8207-93e43e18048e"
      },
      "outputs": [
        {
          "name": "stdout",
          "output_type": "stream",
          "text": [
            "Shape del dataset: (620, 175)\n",
            "Shape del training set (X): (620, 173)\n",
            "Shape del training set (Y): (620,)\n",
            "Numero di pattern per ogni classe:\n",
            "zero -> 62 patterns\n",
            "one -> 62 patterns\n",
            "two -> 62 patterns\n",
            "three -> 62 patterns\n",
            "four -> 62 patterns\n",
            "five -> 62 patterns\n",
            "six -> 62 patterns\n",
            "seven -> 62 patterns\n",
            "eight -> 62 patterns\n",
            "nine -> 62 patterns\n"
          ]
        }
      ],
      "source": [
        "# Caricamento del dataset\n",
        "train_dataset = np.load('DBs/AudioDigits_ML21_22/audio_ml2122_train.npy')\n",
        "print('Shape del dataset:', train_dataset.shape)\n",
        "\n",
        "# Posizione delle etichette (per il problema A si usa digit_column, per il problema B speaker_column)\n",
        "digit_column = 173 #sarebbe la 174 (indice in base 0 ovviamente)\n",
        "speaker_column = 174\n",
        "\n",
        "# Le ultime due colonne sono lasciate alle etichette (digit e speaker)\n",
        "dataset_x = train_dataset[:, :-2].astype(np.float32)\n",
        "dataset_y = train_dataset[:, digit_column].astype(int)   \n",
        "print('Shape del training set (X):', dataset_x.shape)\n",
        "print('Shape del training set (Y):', dataset_y.shape)\n",
        "\n",
        "# Etichette di classe\n",
        "digit = ['zero', 'one', 'two', 'three', 'four', 'five', 'six', 'seven', 'eight', 'nine']\n",
        "\n",
        "print('Numero di pattern per ogni classe:')\n",
        "class_labels, count = np.unique(dataset_y, return_counts=True)\n",
        "for label, n_patterns in zip(class_labels, count):\n",
        "    print(digit[label], '->', n_patterns, 'patterns')"
      ]
    },
    {
      "cell_type": "markdown",
      "metadata": {
        "id": "OvMPAyzlvcAM"
      },
      "source": [
        "Il test set viene fornito in due file separati: \"audio_ml2122_test_no_labels.npy\" (comune ai problemi A e B) e \"audio_ml2122_test_digit_labels.npy\" contenente le etichette per il problema A. Ovviamente le etichette per il problema B non sono date.\n",
        "\n",
        "La procedura per il caricamento del test set è fornita nella cella seguente."
      ]
    },
    {
      "cell_type": "code",
      "execution_count": null,
      "metadata": {
        "id": "uYGB1cAJvcAM",
        "outputId": "a514e83d-17d4-4a86-e7c1-ccf6e387f1ac"
      },
      "outputs": [
        {
          "name": "stdout",
          "output_type": "stream",
          "text": [
            "Shape del dataset X: (620, 173)\n",
            "Shape del dataset Y: (620,)\n",
            "Shape del test set (X): (620, 173)\n",
            "Shape del test set (Y): (620,)\n"
          ]
        }
      ],
      "source": [
        "# Caricamento del dataset (test)\n",
        "test_x = np.load('DBs/AudioDigits_ML21_22/audio_ml2122_test_no_labels.npy') #file da usare sia per il problema A che per il problema B\n",
        "test_y = np.load('DBs/AudioDigits_ML21_22/audio_ml2122_test_digit_labels.npy') #per il prob A lo usiamo ma non per il prob B\n",
        "print('Shape del dataset X:', test_x.shape)\n",
        "print('Shape del dataset Y:', test_y.shape)\n",
        "\n",
        "# Conversione dei dati (test)\n",
        "test_x = test_x.astype(np.float32)\n",
        "test_y = test_y.astype(int)\n",
        "print('Shape del test set (X):', dataset_x.shape)\n",
        "print('Shape del test set (Y):', dataset_y.shape)"
      ]
    },
    {
      "cell_type": "markdown",
      "metadata": {
        "id": "djromx6gvcAN"
      },
      "source": [
        "## Creazione di train e validation set\n",
        "Il successivo passo consiste nell'ottenere un training set e un validation set. A tal fine viene utilizzata la funzione [**train_test_split(...)**](http://scikit-learn.org/stable/modules/generated/sklearn.model_selection.train_test_split.html) messa a disposizione da Scikit-learn.\n",
        "\n",
        "È possibile scegliere la percentuale di pattern da utilizzare nel validation set modificando il parametro *validation\\_size*.\n",
        "\n",
        "La cella seguente esegue anche una normalizzazione dei dati utilizzando [**StandardScaler**](https://scikit-learn.org/stable/modules/generated/sklearn.preprocessing.StandardScaler.html) fornito da Scikit-learn. Questa normalizzazione si rivela essere particolarmente utile quando si intende utilizzare delle reti neurali."
      ]
    },
    {
      "cell_type": "code",
      "execution_count": null,
      "metadata": {
        "id": "vg9FTnADvcAN",
        "outputId": "4f88fd2d-8c3f-4812-bffb-6ed72e967792"
      },
      "outputs": [
        {
          "name": "stdout",
          "output_type": "stream",
          "text": [
            "Training dataset contains 496 patterns\n",
            "Validation dataset contains 124 patterns\n",
            "Training dataset shape (496, 173) (496,)\n",
            "Validation dataset shape (124, 173) (124,)\n"
          ]
        }
      ],
      "source": [
        "# Split del dataset in training e validation\n",
        "validation_size = 0.2\n",
        "train_x, valid_x, train_y, valid_y = train_test_split(dataset_x, dataset_y, test_size=validation_size, random_state = 1234)\n",
        "\n",
        "print('Training dataset contains', len(train_x), 'patterns')\n",
        "print('Validation dataset contains', len(valid_x), 'patterns')\n",
        "\n",
        "print('Training dataset shape', train_x.shape, train_y.shape)\n",
        "print('Validation dataset shape', valid_x.shape, valid_y.shape)\n",
        "\n",
        "# Applica nomralizzazione con StandardScaler di scikit-learn\n",
        "# importante standardizzare\n",
        "scaler = StandardScaler().fit(train_x)\n",
        "train_x = scaler.transform(train_x)\n",
        "valid_x = scaler.transform(valid_x)\n",
        "\n",
        "# Applica normalizzazione anche al test\n",
        "test_x = scaler.transform(test_x)"
      ]
    },
    {
      "cell_type": "markdown",
      "metadata": {
        "id": "sMdvXftevcAN"
      },
      "source": [
        "# Import di TensorFlow 2.x\n",
        "\n",
        "Il prossimo passo è quello di caricare il framework TensorFlow. Per questa esercitazione verrà utilizzata la versione più recente (2.x).\n",
        "\n",
        "Nel momento stesso in cui viene eseguito l'import, TensorFlow controlla se nel PC è presente un dispositivo (come una GPU dedicata) in grado di velocizzare i calcoli solitamente impiegati per l'addestramento e uso di reti neurali. Oltre ad eseguire l'import di Tensor Flow la prossima cella mostrerà anche i dispositivi rilevati. Se non è presente alcun acceleratore verrà mostrata solamente la CPU.\n",
        "\n",
        "Si noti come TensorFlow, se non configurato diversamente, utilizzerà automaticamente tutti gli acceleratori presenti nel sistema. In questo caso, per evitare di appesantire sistemi dotati di più GPU, utilizziamo la variabile di ambiente *CUDA\\_VISIBLE\\_DEVICES* per rendere utilizzabile solo la prima GPU. Se si imposta *CUDA\\_VISIBLE\\_DEVICES = -1*, anche in presenza di GPU, si forza TensorFlow a usare la sola CPU."
      ]
    },
    {
      "cell_type": "code",
      "execution_count": null,
      "metadata": {
        "id": "iXkAsqHwvcAO",
        "outputId": "f4832d39-eeaf-49a1-c99a-72e6761e68b3"
      },
      "outputs": [
        {
          "name": "stdout",
          "output_type": "stream",
          "text": [
            "Tensorflow Version 2.7.0\n",
            "\n",
            "Hardware Devices:\n",
            "[name: \"/device:CPU:0\"\n",
            "device_type: \"CPU\"\n",
            "memory_limit: 268435456\n",
            "locality {\n",
            "}\n",
            "incarnation: 4580921731385837786\n",
            "xla_global_id: -1\n",
            ", name: \"/device:GPU:0\"\n",
            "device_type: \"GPU\"\n",
            "memory_limit: 2253809255\n",
            "locality {\n",
            "  bus_id: 1\n",
            "  links {\n",
            "  }\n",
            "}\n",
            "incarnation: 10623791678116912406\n",
            "physical_device_desc: \"device: 0, name: NVIDIA GeForce GTX 1650, pci bus id: 0000:01:00.0, compute capability: 7.5\"\n",
            "xla_global_id: 416903419\n",
            "]\n"
          ]
        }
      ],
      "source": [
        "os.environ['TF_CPP_MIN_LOG_LEVEL'] = '2'  # Nasconde messaggi di debug\n",
        "os.environ[\"CUDA_VISIBLE_DEVICES\"] = '0'  # Rende visibile solo la GPU 0\n",
        "\n",
        "# Import TensorFlow 2.x\n",
        "import tensorflow as tf\n",
        "import tensorflow_docs as tfdocs\n",
        "import tensorflow_docs.modeling\n",
        "import tensorflow_docs.plots\n",
        "from tensorflow.python.client import device_lib\n",
        "print('Tensorflow Version', tf.__version__)\n",
        "\n",
        "# Mostra i dispositivi disponibili\n",
        "\n",
        "print (\"\\nHardware Devices:\")\n",
        "print (device_lib.list_local_devices())"
      ]
    },
    {
      "cell_type": "markdown",
      "metadata": {
        "id": "eOb5wKYYvcAO"
      },
      "source": [
        "# Definizione del modello\n",
        "\n",
        "Una volta eseguito l'import di TensorFlow è possibile procedere a definire il modello (l'architettura della rete) che si intende utilizzare. Il modo più semplice è quello di utilizzare l'API **Keras** che permette di definire una rete neurale semplicemente descrivendo la struttura e l'ordine degli strati di cui è composta.\n",
        "\n",
        "In particolare per questa esercitazione verranno utilizzati solamente *layer* di tipo *fully connected*. In Keras questi layer sono implementati nella classe [**Dense**](https://www.tensorflow.org/api_docs/python/tf/keras/layers/Dense).\n",
        "\n",
        "I principali parametri sono rappresentati:\n",
        "\n",
        "1. Dal numero di valori di output, impostato dal primo parametro. Si noti come l'ultimo layer deve obbligatoriamente avere un numero di output pari al numero di classi del problema da risolvere (in questo caso 10).\n",
        "2. Dalla funzione di attivazione. Sono disponibili diverse funzioni (si veda la documentazione). La funzione di attivazione per l'ultimo layer dovrà sempre essere *softmax*.\n",
        "\n",
        "La classe **Sequential** ([tutorial](https://www.tensorflow.org/guide/keras/sequential_model)) permette di gestire automaticamente il collegamento tra i successivi layer della rete permettendo allo sviluppatore di non dover specificare la *shape* delle attivazioni intermedie.\n",
        "\n",
        "Nota: Keras è anche disponibile come API di alto livello installabile in maniera *indipendente dal framework* e in grado di sfruttare motori di esecuzione diversi da TensorFlow (ad esempio *MXNet* di Amazon). Google tuttavia ha ben integrato Keras in TF 2.x, per cui si consiglia sempre di riferirsi alla documentazione di *tf.keras* disponibile [qui](https://www.tensorflow.org/api_docs/python/tf/keras/) e non a quella presente sul sito *keras.io*.\n",
        "\n",
        "Di seguito è definita la funzione che verrà richiamata per costruire il modello. Questo, una volta creato tramite *Sequential*, viene \"compilato\". La funzione *compile(...)* lega il modello all'ottimizzatore e alla funzione di *loss* da utilizzare per l'addestramento. A queste si aggiungono eventuali metriche da utilizzare per verificare la bontà del modello (in questo caso, essendo un problema di classificazione, l'accuratezza)."
      ]
    },
    {
      "cell_type": "code",
      "execution_count": null,
      "metadata": {
        "id": "n1OFGzLovcAP"
      },
      "outputs": [],
      "source": [
        "# Procedura di creazione del modello\n",
        "def build_model(n_features):\n",
        "    model = tf.keras.Sequential([\n",
        "        #livello hidden a cui applica la funzione di attivazione e produce in ouput a 64 valori\n",
        "        #valutare di usare un seed per inizializzare i pesi\n",
        "        tf.keras.layers.Dense(64, activation='tanh', input_shape=[n_features]),\n",
        "        #livello di output\n",
        "        #problema a 10 classi quindi 10 neuroni\n",
        "        tf.keras.layers.Dense(10, activation='softmax')\n",
        "    ])\n",
        "\n",
        "    #usa la versione stocastica di back-propagation\n",
        "    #quindi usa mini-batch\n",
        "    #STOCASTIC GRADIENT DISCENT (pattern shufflati e dopo aver visto tutti i pattern del mini-batch aggiorna il gradiente)\n",
        "    #0.005 learning rate\n",
        "    optimizer = tf.keras.optimizers.SGD(0.0010)\n",
        "    \n",
        "    #noi gli diciamo di usare la cross-entropy (misura la loss come distanza tra due distribuxioni [valori veri - valori prodotti])\n",
        "    #perchè spars categorical? o usavamo hot hot o una posizione direttamente alla classe (quindi non abbiamo un vettore di 0 e 1\n",
        "    #ma direttamente un numero che indica la classe di quel pattern)\n",
        "    #l'ultimo parametro è una lista di metriche (ne abbiamo messa una ma ne possiamo aggiungere)\n",
        "    #questa compile prende la loss prende il modello prende l'ottimizzatore e le linka assieme creando un grafo computazionale\n",
        "    #da usare per la computazione finale\n",
        "    model.compile(loss='sparse_categorical_crossentropy',\n",
        "                  optimizer=optimizer,\n",
        "                  metrics=['accuracy'])\n",
        "    \n",
        "    \n",
        "    return model"
      ]
    },
    {
      "cell_type": "markdown",
      "metadata": {
        "id": "QodPSE6KvcAQ"
      },
      "source": [
        "# Addestramento\n",
        "\n",
        "La seguente cella mostra il codice richiesto per istanziare e addestrare il modello. Il modello parte da pesi scelti casualmente dal framework. Il metodo [**.summary(...)**](https://www.tensorflow.org/api_docs/python/tf/keras/Model#summary) permette di visualizzare al struttura della rete, compreso il numero dei parametri addestrabili.\n",
        "\n",
        "Verificare che il numero di parametri addestrabili sia quello atteso dato il numero di livelli e neuroni (tipica domanda all'esame).\n",
        "\n",
        "In questo esempio viene anche mostrato come utilizzare la tecnica di *early stopping*, implementata in TensorFlow nella classe [**EarlyStopping**](https://www.tensorflow.org/api_docs/python/tf/keras/callbacks/EarlyStopping). Questa permette di terminare prematuramente l'addestramento se la variabile monitorata (*val\\_loss*, ovvero la loss sul validation set) non diminuisce per il numero specificato di iterazioni.\n",
        "\n",
        "Si noti come il metodo **.fit(...)** sia molto simile a quello visto nell'API offerta da Scikit-learn."
      ]
    },
    {
      "cell_type": "code",
      "execution_count": null,
      "metadata": {
        "id": "baSRIGqivcAQ"
      },
      "outputs": [],
      "source": [
        "model = build_model(train_x.shape[1])\n",
        "#in Outputshape c'è None,64 perchè ancora non abbiamo fittato e non ha input\n",
        "#i Param sono i pesi che si danno (i collegamenti) (64*10 + 10 = connessioni tra neuroni di layer hidden e output più i bias)\n",
        "#11mila e passa parametri da apprendere da 640 pattern mica male...\n",
        "model.summary()\n",
        "\n",
        "#epoce e dimensione minibatch\n",
        "n_epochs = 400\n",
        "#496/32 = 15,5 --> non è intero...da evitare frazionamenti\n",
        "minibatch_size = 32\n",
        "\n",
        "\n",
        "#se per 10 iterazioni la loss non cala si ferma\n",
        "early_stop = tf.keras.callbacks.EarlyStopping(monitor='val_loss', patience=30, restore_best_weights=True)\n",
        "\n",
        "start = time.time()\n",
        "\n",
        "#Shffle = true è consigliato\n",
        "history = model.fit(train_x, train_y, validation_data=(valid_x, valid_y),\n",
        "                    epochs=n_epochs, batch_size=minibatch_size, shuffle=True,\n",
        "                    verbose=0, callbacks=[early_stop, tfdocs.modeling.EpochDots(report_every=10, dot_every=1)])\n",
        "\n",
        "print('\\nTraining MLP completato in %.2f s.' % (time.time() - start))"
      ]
    },
    {
      "cell_type": "markdown",
      "metadata": {
        "id": "9M1lvDc5vcAQ"
      },
      "source": [
        "La funzione *.fit(...)* restituisce l'andamento del valore numerico di diverse metriche classiche. Analizzare visivamente questi valori può essere utile per individuare eventuali anomalie e per correggere sia la struttura del modello che gli iperparametri dell'ottimizzatore."
      ]
    },
    {
      "cell_type": "code",
      "execution_count": null,
      "metadata": {
        "id": "8H7Q_l6DvcAR",
        "outputId": "e6a8e3ae-3742-4488-a965-585b99f72ac6"
      },
      "outputs": [
        {
          "data": {
            "image/png": "[encoded data removed]",
            "text/plain": [
              "<Figure size 432x288 with 1 Axes>"
            ]
          },
          "metadata": {
            "needs_background": "light"
          },
          "output_type": "display_data"
        },
        {
          "data": {
            "image/png": "[encoded data removed]",
            "text/plain": [
              "<Figure size 432x288 with 1 Axes>"
            ]
          },
          "metadata": {
            "needs_background": "light"
          },
          "output_type": "display_data"
        }
      ],
      "source": [
        "plotter = tfdocs.plots.HistoryPlotter(smoothing_std=0)\n",
        "\n",
        "plotter.plot({'Basic': history}, metric=\"accuracy\")\n",
        "plt.ylim([0, 1])\n",
        "plt.ylabel('Accuracy')\n",
        "plt.show()\n",
        "\n",
        "plotter.plot({'Basic': history}, metric=\"loss\")\n",
        "plt.ylabel('Loss')\n",
        "plt.show()"
      ]
    },
    {
      "cell_type": "markdown",
      "metadata": {
        "id": "z7cqNtqIvcAR"
      },
      "source": [
        "Infine, **una volta ottenuta una configurazione ritenuta ottimale**, sarà possibile verificare la soluzione anche sul test set. Nella cella seguente verrà visualizzata l'accuratezza e la Confusion Matrix del modello sul test set:"
      ]
    },
    {
      "cell_type": "code",
      "execution_count": null,
      "metadata": {
        "scrolled": true,
        "id": "7LLKiDTAvcAR",
        "outputId": "85a63789-1279-4223-8730-a7e1a68fc1c7"
      },
      "outputs": [
        {
          "name": "stdout",
          "output_type": "stream",
          "text": [
            "Accuratezza sul test set: 28.548387096774192 %\n"
          ]
        },
        {
          "data": {
            "image/png": "[encoded data removed]",
            "text/plain": [
              "<Figure size 768x576 with 2 Axes>"
            ]
          },
          "metadata": {
            "needs_background": "light"
          },
          "output_type": "display_data"
        }
      ],
      "source": [
        "test_predictions = model.predict(test_x)\n",
        "test_predictions = test_predictions.argmax(axis=-1)\n",
        "\n",
        "print('Accuratezza sul test set:', accuracy_score(test_y, test_predictions) * 100, '%')\n",
        "\n",
        "plot_confusion_matrix(test_y, test_predictions, classes=['zero', 'one', 'two', 'three', 'four', 'five', 'six', 'seven', 'eight', 'nine'])"
      ]
    },
    {
      "cell_type": "markdown",
      "metadata": {
        "id": "QsrJHC2BvcAS"
      },
      "source": [
        "# Massimizzare l'accuratezza\n",
        "\n",
        "L'obiettivo è quello di massimizzare l'accuratezza di classificazione per il **problema di riconoscimento dello speaker** (problema B), di cui non sono date le etichette. Il dataset di test è lo stesso usato per il problema di riconoscimento delle cifre. \n",
        "\n",
        "- Si consideri la possibilità di **modificare l'architettura della rete** aggiungendo o rimuovendo layer e modificando il numero di neuroni per ogni livello;\n",
        "- **Modificare la funzione di attivazione** può potenzialmente migliorare il modello. Si noti come, a seconda della funzione utilizzata, potrebbe essere necessario adattare il modo con cui sono generati i pesi casuali iniziali. La generazione casuale dei pesi è controllata tramite il parametro *kernel\\_initializer* dei layer *Dense*;\n",
        "- È possibile **modificare l'ottimizzatore** (e i relativi iperparametri) utilizzando uno di quelli disponibili in Keras ([qui la lista completa](https://www.tensorflow.org/api_docs/python/tf/keras/optimizers));\n",
        "- Applicare una **regolarizzazione L1 o L2** può prevenire alcuni problemi di under o overfitting e di convergenza. A tal fine si consideri l'uso del parametro *kernel\\_regularizer* dei layer *Dense*;\n",
        "- È possibile utilizzare **uno *scheduler* del Learning Rate** tra quelli disponilibi in Keras ([qui la lista completa](https://www.tensorflow.org/api_docs/python/tf/keras/optimizers/schedules)). Nella documentazione dei vari scheduler sono presenti semplici esempi che mostrano come utilizzarli.\n",
        "- Si consiglia di definire un codice con cui **eseguire una Cross Validation efficace**. Nel libro di A. Geron, \"Hands-On Machine Learning with Scikit-Learn, Keras, and Tensorflow: Concepts, Tools, and Techniques to Build Intelligent System\" è spiegato come \"wrappare\" modelli di Keras in modo da rendere possibile l'uso della funzionalità di CrossValidation e GridSearch di Scikit-learn;\n",
        "- Ricordate che una volta definiti gli iperparametri e la procedura ottimale di training può convenire utilizzare tutto il training set per l'addestramento finale (senza escludere porzione di validation)."
      ]
    },
    {
      "cell_type": "code",
      "execution_count": null,
      "metadata": {
        "id": "Q3uRbgatvcAS"
      },
      "outputs": [],
      "source": [
        "def create_model(n_features=173, \n",
        "                 n_hidden=1, \n",
        "                 activation='selu', \n",
        "                 n_neurons=30, \n",
        "                 learning_rate=0.001, \n",
        "                 momentum=0.3,\n",
        "                 optimizer='SGD',\n",
        "                 batch_size=31,\n",
        "                 init_mode='uniform'\n",
        "                   ):\n",
        "    \n",
        "    #173 feature di train_x.shape[1]\n",
        "    model=tf.keras.Sequential()\n",
        "    \n",
        "    for layer in range(n_hidden):\n",
        "        model.add(tf.keras.layers.Dense(n_neurons, \n",
        "                                        activation=activation, \n",
        "                                        kernel_initializer=init_mode,\n",
        "                                        input_shape=[n_features]))\n",
        "\n",
        "    model.add(tf.keras.layers.Dense(31, activation='softmax'))\n",
        "\n",
        "    if (optimizer == 'SGD') :\n",
        "        \n",
        "        my_optimizer = tf.keras.optimizers.SGD(learning_rate, momentum)\n",
        "        \n",
        "    elif(optimizer == 'Nadam') :\n",
        "        \n",
        "        my_optimizer = tf.keras.optimizers.Nadam(learning_rate)\n",
        "        \n",
        "    else:\n",
        "    \n",
        "        my_optimizer = tf.keras.optimizers.Adam(learning_rate)\n",
        "    \n",
        "    model.compile(loss='sparse_categorical_crossentropy',\n",
        "                  optimizer=my_optimizer,\n",
        "                  metrics=['accuracy'])\n",
        "    \n",
        "    \n",
        "    return model"
      ]
    },
    {
      "cell_type": "code",
      "execution_count": null,
      "metadata": {
        "id": "zbRMvl42vcAS",
        "outputId": "5ebe532e-7dff-4ad7-ab5e-71d17e994068"
      },
      "outputs": [
        {
          "name": "stdout",
          "output_type": "stream",
          "text": [
            "Tensorflow Version 2.7.0\n",
            "\n",
            "Hardware Devices:\n",
            "[name: \"/device:CPU:0\"\n",
            "device_type: \"CPU\"\n",
            "memory_limit: 268435456\n",
            "locality {\n",
            "}\n",
            "incarnation: 9925885880635009031\n",
            "xla_global_id: -1\n",
            ", name: \"/device:GPU:0\"\n",
            "device_type: \"GPU\"\n",
            "memory_limit: 2253809255\n",
            "locality {\n",
            "  bus_id: 1\n",
            "  links {\n",
            "  }\n",
            "}\n",
            "incarnation: 13546014367466389813\n",
            "physical_device_desc: \"device: 0, name: NVIDIA GeForce GTX 1650, pci bus id: 0000:01:00.0, compute capability: 7.5\"\n",
            "xla_global_id: 416903419\n",
            "]\n",
            "Shape del dataset: (620, 175)\n",
            "Shape del dataset (X): (620, 173)\n",
            "Shape del dataset (Y): (620,)\n",
            "Shape del training set (X): (496, 173)\n",
            "Shape del training set (Y): (496,)\n",
            "Shape del validation set (X): (124, 173)\n",
            "Shape del validation set (Y): (124,)\n"
          ]
        }
      ],
      "source": [
        "%matplotlib inline\n",
        "import matplotlib.pyplot as plt\n",
        "import numpy as np\n",
        "from sklearn.model_selection import train_test_split\n",
        "from sklearn.preprocessing import StandardScaler\n",
        "from sklearn.model_selection import RandomizedSearchCV\n",
        "from scipy.stats import reciprocal\n",
        "from sklearn.metrics import accuracy_score\n",
        "from sklearn.neighbors import KNeighborsClassifier\n",
        "from sklearn.model_selection import KFold\n",
        "from sklearn.pipeline import Pipeline\n",
        "import os\n",
        "import time\n",
        "import IPython\n",
        "from ml_visualization import plot_confusion_matrix\n",
        "from keras.layers import LeakyReLU\n",
        "LeakyReLU = LeakyReLU(alpha=0.1)\n",
        "import warnings\n",
        "warnings.filterwarnings('ignore')\n",
        "# Import TensorFlow 2.x\n",
        "import tensorflow as tf\n",
        "import tensorflow_docs as tfdocs\n",
        "import tensorflow_docs.modeling\n",
        "import tensorflow_docs.plots\n",
        "from tensorflow.python.client import device_lib\n",
        "\n",
        "\n",
        "\n",
        "os.environ['TF_CPP_MIN_LOG_LEVEL'] = '2'  # Nasconde messaggi di debug\n",
        "os.environ[\"CUDA_VISIBLE_DEVICES\"] = '0'  # Rende visibile solo la GPU 0\n",
        "\n",
        "print('Tensorflow Version', tf.__version__)\n",
        "\n",
        "# Mostra i dispositivi disponibili\n",
        "print (\"\\nHardware Devices:\")\n",
        "print (device_lib.list_local_devices())\n",
        "\n",
        "#--------------------------------------------------------------------------------------\n",
        "\n",
        "\n",
        "# Caricamento del dataset\n",
        "train_dataset = np.load('DBs/AudioDigits_ML21_22/audio_ml2122_train.npy')\n",
        "print('Shape del dataset:', train_dataset.shape)\n",
        "\n",
        "# Posizione delle etichette\n",
        "speaker_column = 174\n",
        "\n",
        "# Le ultime due colonne sono lasciate alle etichette (digit e speaker)\n",
        "dataset_x = train_dataset[:, :-2].astype(np.float32)\n",
        "dataset_y = train_dataset[:, speaker_column].astype(int)   \n",
        "print('Shape del dataset (X):', dataset_x.shape)\n",
        "print('Shape del dataset (Y):', dataset_y.shape)\n",
        "\n",
        "\n",
        "\n",
        "#---------------------------------------------------------------------\n",
        "\n",
        "# Split del dataset in training e validation\n",
        "validation_size = 0.2\n",
        "train_x, valid_x, train_y, valid_y = train_test_split(dataset_x, dataset_y, test_size=validation_size, random_state = 42)\n",
        "print('Shape del training set (X):', train_x.shape)\n",
        "print('Shape del training set (Y):', train_y.shape)\n",
        "print('Shape del validation set (X):', valid_x.shape)\n",
        "print('Shape del validation set (Y):', valid_y.shape)\n",
        "\n",
        "\n",
        "# Applica normalizzazione con StandardScaler di scikit-learn\n",
        "# importante standardizzare\n",
        "scaler = StandardScaler().fit(train_x)\n",
        "train_x = scaler.transform(train_x)\n",
        "valid_x = scaler.transform(valid_x)\n",
        "\n",
        "#---------------------------------------------------------------------\n",
        "\n",
        "kf = KFold(3, shuffle=True, random_state=42)\n",
        "\n",
        "#train_x.shape[1] = 173\n",
        "\n",
        "model = tf.keras.wrappers.scikit_learn.KerasClassifier(build_fn = create_model, verbose = 0)\n",
        "\n",
        "n_hidden = [1, 2, 3, 4]\n",
        "n_neurons = np.arange(1, 100)\n",
        "learning_rate = reciprocal(3e-4, 3e-2)\n",
        "momentum = [0.0, 0.2, 0.4, 0.6, 0.8, 0.9]\n",
        "activation = ['softmax', 'softplus', 'softsign', 'relu', 'tanh', 'sigmoid', 'hard_sigmoid', 'linear']\n",
        "optimizer = ['SGD', 'Adam', 'Nadam']\n",
        "batch_size = [31]\n",
        "epochs = [100, 400, 500]\n",
        "init_mode = ['uniform', 'lecun_uniform', 'normal', 'zero', 'glorot_normal', 'glorot_uniform', 'he_normal', 'he_uniform']\n",
        "\n",
        "keras_grid = {\"n_hidden\": n_hidden,\n",
        "              \"n_neurons\": n_neurons, \n",
        "              \"learning_rate\": learning_rate,\n",
        "              \"momentum\": momentum,\n",
        "              \"activation\": activation,\n",
        "              \"optimizer\": optimizer,\n",
        "              \"batch_size\": batch_size,\n",
        "              \"epochs\": epochs,\n",
        "              \"init_mode\": init_mode}\n",
        "\n",
        "\n",
        "#n_epochs = 400\n",
        "#496/32 = 15,5 --> non è intero...da evitare frazionamenti\n",
        "#minibatch_size = 31\n",
        "\n",
        "\n",
        "#se per 10 iterazioni la loss non cala si ferma\n",
        "early_stop = tf.keras.callbacks.EarlyStopping(monitor='val_loss', patience=40, restore_best_weights=True)\n",
        "\n",
        "start = time.time()\n",
        "\n",
        "rnd_search_cv = RandomizedSearchCV(estimator=model,\n",
        "                                   param_distributions=keras_grid, \n",
        "                                   cv=kf, \n",
        "                                   n_jobs=-1, \n",
        "                                   n_iter=10)\n",
        "\n",
        "\n",
        "#Shffle = true è consigliato\n",
        "modellino = rnd_search_cv.fit(train_x, train_y, \n",
        "                            validation_data=(valid_x, valid_y),\n",
        "                            #epochs=n_epochs, \n",
        "                            #batch_size=minibatch_size, \n",
        "                            shuffle=True,\n",
        "                            verbose=0, \n",
        "                            callbacks=[early_stop, tfdocs.modeling.EpochDots(report_every=10, dot_every=1)])\n",
        "\n",
        "\n",
        "print('\\nTraining MLP completato in %.2f s.' % (time.time() - start))"
      ]
    },
    {
      "cell_type": "code",
      "execution_count": null,
      "metadata": {
        "id": "BI6bNuBnvcAT"
      },
      "outputs": [],
      "source": [
        "\n",
        "#----------------------------------------------------------\n",
        "\n",
        "\n",
        "plotter = tfdocs.plots.HistoryPlotter(smoothing_std=0)\n",
        "\n",
        "plotter.plot({'Basic': history}, metric=\"accuracy\")\n",
        "plt.ylim([0, 1])\n",
        "plt.ylabel('Accuracy')\n",
        "plt.show()\n",
        "\n",
        "plotter.plot({'Basic': history}, metric=\"loss\")\n",
        "plt.ylabel('Loss')\n",
        "plt.show()\n",
        "\n",
        "#------------------------------------------------------"
      ]
    },
    {
      "cell_type": "code",
      "execution_count": null,
      "metadata": {
        "id": "6_QjK6CHvcAT",
        "outputId": "befd8e63-3a20-46c9-e9b3-9342e173286b"
      },
      "outputs": [
        {
          "data": {
            "text/plain": [
              "{'activation': 'selu',\n",
              " 'learning_rate': 0.009992975389530506,\n",
              " 'n_hidden': 1,\n",
              " 'n_neurons': 34}"
            ]
          },
          "execution_count": 4,
          "metadata": {},
          "output_type": "execute_result"
        }
      ],
      "source": [
        "rnd_search_cv.best_params_"
      ]
    },
    {
      "cell_type": "code",
      "execution_count": null,
      "metadata": {
        "id": "RybEB_UqvcAU",
        "outputId": "644fa775-bb63-4603-ab6b-ddbc2dbca26d"
      },
      "outputs": [
        {
          "data": {
            "text/plain": [
              "0.8689181009928385"
            ]
          },
          "execution_count": 5,
          "metadata": {},
          "output_type": "execute_result"
        }
      ],
      "source": [
        "rnd_search_cv.best_score_"
      ]
    },
    {
      "cell_type": "code",
      "execution_count": null,
      "metadata": {
        "id": "A_zQpgX9vcAU",
        "outputId": "8ce0b86e-d4c5-415d-f6f3-52d4a7302753"
      },
      "outputs": [
        {
          "data": {
            "text/plain": [
              "<keras.wrappers.scikit_learn.KerasClassifier at 0x2a924e05700>"
            ]
          },
          "execution_count": 8,
          "metadata": {},
          "output_type": "execute_result"
        }
      ],
      "source": [
        "modellino = rnd_search_cv.best_estimator_.model"
      ]
    }
  ],
  "metadata": {
    "kernelspec": {
      "display_name": "Python 3",
      "language": "python",
      "name": "python3"
    },
    "language_info": {
      "codemirror_mode": {
        "name": "ipython",
        "version": 3
      },
      "file_extension": ".py",
      "mimetype": "text/x-python",
      "name": "python",
      "nbconvert_exporter": "python",
      "pygments_lexer": "ipython3",
      "version": "3.9.4"
    },
    "colab": {
      "provenance": []
    }
  },
  "nbformat": 4,
  "nbformat_minor": 0
}