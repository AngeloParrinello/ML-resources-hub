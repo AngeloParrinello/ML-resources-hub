{
  "nbformat": 4,
  "nbformat_minor": 0,
  "metadata": {
    "colab": {
      "provenance": []
    },
    "kernelspec": {
      "name": "python3",
      "display_name": "Python 3"
    },
    "language_info": {
      "name": "python"
    }
  },
  "cells": [
    {
      "cell_type": "markdown",
      "source": [
        "# Numpy\n",
        "\n",
        "_Materiale estrapolato dal corso di Machine Learning dell'Università di Bologna tenuto dal prof. Maltoni Davide e dall'assistente Lorenzo Pellegrini_\n",
        "\n",
        "Numpy è una libreria del linguaggio Python che permette di definire e manipolare vettori e matrici multidimensionali.\n",
        "\n",
        "Per via della sua facilità d'uso e del gran numero di operazioni messe a disposizione out-of-the-box, Numpy è diventato un punto di riferimento per qualsiasi applicazione di tipo scientifico. Questa libreria nasce con l'intento di sopperire alle mancanze delle strutture dati messe a disposizione nativamente da Python che risultano poco adatte ad applicazioni matematiche.\n",
        "\n",
        "Di seguito vengono esposte le principali funzionalità messe a disposizione da Numpy. Per una lista completa si rimanda alla [documentazione ufficiale](https://numpy.org/doc/stable/reference/index.html)."
      ],
      "metadata": {
        "id": "1OXNLMTRpkj-"
      }
    },
    {
      "cell_type": "code",
      "execution_count": 1,
      "metadata": {
        "id": "jlDK5YoJpiTb"
      },
      "outputs": [],
      "source": [
        "import numpy as np"
      ]
    },
    {
      "cell_type": "markdown",
      "source": [
        "## Array\n",
        "\n",
        "Al contrario delle liste di Python, gli array di Numpy (**ndarray** - *n-dimensional array*) sono omogenei, cioè possono contenere solamente elementi dello stesso tipo. Inoltre le operazioni aritmetiche e di manipolazione messe a disposizione risultano essere particolarmente ottimizzate.\n",
        "\n",
        "L'inizializzazione di un **ndarray** è affidata alla funzione **array(...)**. Nella sua versione base la funzione accetta come parametro una lista di valori."
      ],
      "metadata": {
        "id": "V_inA_c_p_38"
      }
    },
    {
      "cell_type": "code",
      "source": [
        "# Definisce un vettore contenente gli elementi da 0 a 5\n",
        "vector = np.array([0, 1, 2, 3, 4, 5])\n",
        "print(type(vector))\n",
        "print('Contenuto di vector:', vector)"
      ],
      "metadata": {
        "colab": {
          "base_uri": "https://localhost:8080/"
        },
        "id": "4H5S9GBzqOjH",
        "outputId": "5bbf8fe9-718a-43da-982e-cb53391a77e8"
      },
      "execution_count": 2,
      "outputs": [
        {
          "output_type": "stream",
          "name": "stdout",
          "text": [
            "<class 'numpy.ndarray'>\n",
            "Contenuto di vector: [0 1 2 3 4 5]\n"
          ]
        }
      ]
    },
    {
      "cell_type": "markdown",
      "source": [
        "Si noti che in Numpy un array monodimensionale viene rappresentato come vettore riga (mentre solitamente in matematica quando si parla di vettori ci si riferisce a vettori colonna).\n",
        "\n",
        "È possibile accedere ai singoli elementi nel seguente modo:"
      ],
      "metadata": {
        "id": "U_DWdUfHqZDp"
      }
    },
    {
      "cell_type": "code",
      "source": [
        "# Accesso in lettura\n",
        "print(vector[0])\n",
        "\n",
        "# Accesso in scrittura\n",
        "vector[2] = 5\n",
        "print(vector)\n",
        "\n",
        "vector = np.array([0, 1, 2, 3, 4, 5]) # Ripristina i valori originali"
      ],
      "metadata": {
        "colab": {
          "base_uri": "https://localhost:8080/"
        },
        "id": "N1-t0yocqTPV",
        "outputId": "6ae767a8-e8ab-4253-f61c-eda7bf5eec46"
      },
      "execution_count": 3,
      "outputs": [
        {
          "output_type": "stream",
          "name": "stdout",
          "text": [
            "0\n",
            "[0 1 5 3 4 5]\n"
          ]
        }
      ]
    },
    {
      "cell_type": "markdown",
      "source": [
        "Numpy è in grado di gestire ndarray multidimensionali.\n",
        "\n",
        "Di seguito un esempio di dichiarazione di un ndarray bi-dimensionale, cioè una matrice. È possibile dichiarare una matrice utilizzando la funzione array(...). In questo caso il parametro consiste in una lista di liste: ogni sottolista descrive il contenuto di una riga. Le liste devono essere di lunghezza identica."
      ],
      "metadata": {
        "id": "_Mf0szCMrEC7"
      }
    },
    {
      "cell_type": "code",
      "source": [
        "# Dichiarazione di una matrix 2x3\n",
        "matrix = np.array([[0,1,2], [3,4,5]])\n",
        "print('Contenuto della matrice:\\n', matrix)\n",
        "\n",
        "# Accesso agli elementi di una matrice\n",
        "print(matrix[1][2])\n",
        "# Sintassi equivalente\n",
        "print(matrix[1, 2])"
      ],
      "metadata": {
        "colab": {
          "base_uri": "https://localhost:8080/"
        },
        "id": "31EQptlErI1A",
        "outputId": "2f8c00a8-3414-479a-c204-553ec29f4cdb"
      },
      "execution_count": 4,
      "outputs": [
        {
          "output_type": "stream",
          "name": "stdout",
          "text": [
            "Contenuto della matrice:\n",
            " [[0 1 2]\n",
            " [3 4 5]]\n",
            "5\n",
            "5\n"
          ]
        }
      ]
    },
    {
      "cell_type": "markdown",
      "source": [
        "Numpy mette a disposizione diverse funzioni per la creazione degli array:"
      ],
      "metadata": {
        "id": "rje0nq4hrPrP"
      }
    },
    {
      "cell_type": "code",
      "source": [
        "# Dichiarazione di una matrice 2x2 inizializzata con tutti gli elementi a 0 \n",
        "a = np.zeros((2,2))   \n",
        "print('Zeros:\\n', a)\n",
        "print() \n",
        "        \n",
        "# Dichiarazione di una matrice 1x2 inizializzata con tutti gli elementi a 1 \n",
        "b = np.ones((1,2))    \n",
        "print('Ones:\\n', b)\n",
        "print() \n",
        "\n",
        "# Dichiarazione di una matrice 2x2 inizializzata con tutti gli elementi a un valore costante \n",
        "c = np.full((2,2), 7)  \n",
        "print('Full:\\n', c)\n",
        "print() \n",
        "\n",
        "# Dichiarazione di una matrice identità 3x3\n",
        "d = np.eye(3)\n",
        "print('Eye:\\n', d)\n",
        "print() \n",
        "\n",
        "# Dichiarazione di una matrice 4x3 contenete valori casuali\n",
        "e = np.random.random((4,3))\n",
        "print('Random:\\n', e)"
      ],
      "metadata": {
        "colab": {
          "base_uri": "https://localhost:8080/"
        },
        "id": "2Vrz045grQV2",
        "outputId": "363cac9d-e23f-427e-f2ec-d09ce199657c"
      },
      "execution_count": 5,
      "outputs": [
        {
          "output_type": "stream",
          "name": "stdout",
          "text": [
            "Zeros:\n",
            " [[0. 0.]\n",
            " [0. 0.]]\n",
            "\n",
            "Ones:\n",
            " [[1. 1.]]\n",
            "\n",
            "Full:\n",
            " [[7 7]\n",
            " [7 7]]\n",
            "\n",
            "Eye:\n",
            " [[1. 0. 0.]\n",
            " [0. 1. 0.]\n",
            " [0. 0. 1.]]\n",
            "\n",
            "Random:\n",
            " [[0.64746421 0.06399527 0.64672076]\n",
            " [0.38156253 0.43585627 0.72045728]\n",
            " [0.67056126 0.53363619 0.79598582]\n",
            " [0.25637412 0.5029666  0.61353584]]\n"
          ]
        }
      ]
    },
    {
      "cell_type": "markdown",
      "source": [
        "## Shape\n",
        "Si definisce **rank** il numero di dimensioni di un array e **shape** una tupla di interi che esprimono la lunghezza di ciascuna dimensione.\n",
        "\n",
        "Per comprendere meglio questo concetto si consideri la variabile *vector*: si tratta di un vettore di *rank* 1 e *shape* (6,) (cioè una tupla contenente un solo elemento).\n",
        "\n",
        "Per ottenere la *shape* di un **ndarray** è sufficiente accederne al relativo attributo, come mostrato nella cella seguente:"
      ],
      "metadata": {
        "id": "ymIb8M9vrgvt"
      }
    },
    {
      "cell_type": "code",
      "source": [
        "print('Rank di vector:', len(vector.shape))\n",
        "print('Shape di vector :', vector.shape)\n",
        "\n",
        "print('Rank di matrix:', len(matrix.shape))\n",
        "print('Shape di matrix :', matrix.shape)"
      ],
      "metadata": {
        "colab": {
          "base_uri": "https://localhost:8080/"
        },
        "id": "kDXj0hHarico",
        "outputId": "0fdde754-5000-45ce-9595-df5737180a8a"
      },
      "execution_count": 6,
      "outputs": [
        {
          "output_type": "stream",
          "name": "stdout",
          "text": [
            "Rank di vector: 1\n",
            "Shape di vector : (6,)\n",
            "Rank di matrix: 2\n",
            "Shape di matrix : (2, 3)\n"
          ]
        }
      ]
    },
    {
      "cell_type": "markdown",
      "source": [
        "## Reshape\n",
        "Un **ndarray** può essere manipolato in maniera tale da poter creare un array con *shape* differente a partire dal contenuto iniziale.\n",
        "\n",
        "Nell'esempio che segue *vector* è trasformato nell'equivalente vettore colonna utilizzando la funzione **reshape(...)**."
      ],
      "metadata": {
        "id": "nyVZUG5-r0ZX"
      }
    },
    {
      "cell_type": "code",
      "source": [
        "# Trasformazione in vettore colonna\n",
        "column_vector = vector.reshape((6, 1))\n",
        "\n",
        "print('Contenuto di column_vector:\\n', column_vector)\n",
        "\n",
        "# Nota: l'array originale non è stato modificato\n",
        "print('vector originale:', vector)"
      ],
      "metadata": {
        "colab": {
          "base_uri": "https://localhost:8080/"
        },
        "id": "xB8ILR4-r17v",
        "outputId": "ba8e673e-4151-4ab0-ab08-5f8552a41f80"
      },
      "execution_count": 7,
      "outputs": [
        {
          "output_type": "stream",
          "name": "stdout",
          "text": [
            "Contenuto di column_vector:\n",
            " [[0]\n",
            " [1]\n",
            " [2]\n",
            " [3]\n",
            " [4]\n",
            " [5]]\n",
            "vector originale: [0 1 2 3 4 5]\n"
          ]
        }
      ]
    },
    {
      "cell_type": "markdown",
      "source": [
        "Il parametro della funzione **reshape(...)** deve essere una tupla che descrive la *shape* dell'array di output. In questo caso si vuole che gli stessi dati contenuti in *row_vector* vengano utilizzati per creare una matrice di 6 righe e 1 colonna. Il risultato si riflette nell'attributo shape del vettore ottenuto:"
      ],
      "metadata": {
        "id": "1_U0cuFMsK7W"
      }
    },
    {
      "cell_type": "code",
      "source": [
        "print('Rank vettore colonna:', len(column_vector.shape))\n",
        "print('Shape vettore colonna:', column_vector.shape)"
      ],
      "metadata": {
        "colab": {
          "base_uri": "https://localhost:8080/"
        },
        "id": "pws2Tm7FsTua",
        "outputId": "3157c5d6-4561-44f2-97e0-fdcecb5aef54"
      },
      "execution_count": 8,
      "outputs": [
        {
          "output_type": "stream",
          "name": "stdout",
          "text": [
            "Rank vettore colonna: 2\n",
            "Shape vettore colonna: (6, 1)\n"
          ]
        }
      ]
    },
    {
      "cell_type": "markdown",
      "source": [
        "A partire dal vettore colonna è possibile riottenere il relativo vettore riga utilizzando nuovamente utilizzando la funzione **reshape(...)**."
      ],
      "metadata": {
        "id": "Aua3uYC9slry"
      }
    },
    {
      "cell_type": "code",
      "source": [
        "row_vector = column_vector.reshape((1, 6))\n",
        "\n",
        "print('Contenuto di row_vector:\\n', row_vector)\n",
        "print('Rank di row_vector:', len(row_vector.shape))\n",
        "print('Shape di row_vector:', row_vector.shape)"
      ],
      "metadata": {
        "colab": {
          "base_uri": "https://localhost:8080/"
        },
        "id": "NdRSSC_ismRE",
        "outputId": "d365711e-cc31-4a3a-bd9f-56b6408f5228"
      },
      "execution_count": 9,
      "outputs": [
        {
          "output_type": "stream",
          "name": "stdout",
          "text": [
            "Contenuto di row_vector:\n",
            " [[0 1 2 3 4 5]]\n",
            "Rank di row_vector: 2\n",
            "Shape di row_vector: (1, 6)\n"
          ]
        }
      ]
    },
    {
      "cell_type": "markdown",
      "source": [
        "Nota: il *row_vector* così ottenuto non è identico al *vector* originale. Si noti come **print(...)** restituisca *\\[\\[0 1 2 3 4 5\\]\\]* per *row_vector* e *\\[0 1 2 3 4 5\\]* per *vector*.\n",
        "\n",
        "Questo è dovuto al fatto che *row_vector* ha dimensioni *(1, 6)* mentre *vector* ha dimensioni *(6,)*. In altre parole *row_vector* è una matrice 1x6 mentre *vector* è un array monodimensionale (o vettore riga).\n",
        "\n",
        "La seguente operazione restituirà esattamente il vettore originale. "
      ],
      "metadata": {
        "id": "AKMreLCes-6s"
      }
    },
    {
      "cell_type": "code",
      "source": [
        "print(column_vector.reshape( (6,) ))\n",
        "\n",
        "# Per array monodimensionali è possibile passare a reshape(...) un singolo valore\n",
        "print(column_vector.reshape(  6  ))"
      ],
      "metadata": {
        "colab": {
          "base_uri": "https://localhost:8080/"
        },
        "id": "mbKHtaXbuFiZ",
        "outputId": "ae60e5e2-8576-477c-d4e7-2e362eeb5cc0"
      },
      "execution_count": 10,
      "outputs": [
        {
          "output_type": "stream",
          "name": "stdout",
          "text": [
            "[0 1 2 3 4 5]\n",
            "[0 1 2 3 4 5]\n"
          ]
        }
      ]
    },
    {
      "cell_type": "markdown",
      "source": [
        "## Tipi di dati\n",
        "\n",
        "Gli array di Numpy sono una griglia di elementi dello stesso tipo. Il tipo di dato degli elementi viene automaticamente inferito da Numpy oppure può essere specificato nella funzione di inizializzazione come parametro opzionale:"
      ],
      "metadata": {
        "id": "mnw2jbd8uN_d"
      }
    },
    {
      "cell_type": "code",
      "source": [
        "x = np.array([1, 2]) # Numpy sceglie il tipo di dati\n",
        "print(x.dtype)\n",
        "\n",
        "x = np.array([1.0, 2.0]) # Numpy sceglie il tipo di dati\n",
        "print(x.dtype)\n",
        "\n",
        "x = np.array([1, 2], dtype=np.int64) # Forza un tipo di dati                    \n",
        "print(x.dtype)"
      ],
      "metadata": {
        "colab": {
          "base_uri": "https://localhost:8080/"
        },
        "id": "gNapH5yLuTVI",
        "outputId": "9e1dc519-c9d2-45a6-9114-f2a3f363d090"
      },
      "execution_count": 11,
      "outputs": [
        {
          "output_type": "stream",
          "name": "stdout",
          "text": [
            "int64\n",
            "float64\n",
            "int64\n"
          ]
        }
      ]
    },
    {
      "cell_type": "markdown",
      "source": [
        "## Slicing\n",
        "\n",
        "Lo *slicing* si applica anche agli **ndarray** ma, a differenza di quanto avviene per le liste, è possibile applicarlo a ogni dimensione dell'array.\n",
        "\n",
        "P.S. Lo slicing consiste nel suddividere un oggetto in unità numerate secondo un ordine sequenziale. Può trattarsi sia di una lista che dei caratteri di una stringa."
      ],
      "metadata": {
        "id": "TwqWhyRzud81"
      }
    },
    {
      "cell_type": "code",
      "source": [
        "# Crea un ndarray bi-dimensionale di shape (3, 4)\n",
        "a = np.array([[1,2,3,4], [5,6,7,8], [9,10,11,12]])\n",
        "print(a)\n",
        "print()\n",
        "\n",
        "# Slicing per ottenere una sotto-matrice formata dagli elementi\n",
        "# delle prime 2 righe in corrispondenza delle colonne 1 e 2\n",
        "b = a[:2, 1:3]\n",
        "print(b)\n",
        "print()\n",
        "\n",
        "# Uno slice crea una vista, non una copia dei dati\n",
        "# Modificare uno slice equivale a modificare l'ndarray originale\n",
        "print(a[0, 1])\n",
        "b[0, 0] = 77\n",
        "print(a[0, 1])"
      ],
      "metadata": {
        "colab": {
          "base_uri": "https://localhost:8080/"
        },
        "id": "nxe1hBVgum44",
        "outputId": "d1145e87-ab97-4ba0-d2fe-52e70ce88dba"
      },
      "execution_count": 12,
      "outputs": [
        {
          "output_type": "stream",
          "name": "stdout",
          "text": [
            "[[ 1  2  3  4]\n",
            " [ 5  6  7  8]\n",
            " [ 9 10 11 12]]\n",
            "\n",
            "[[2 3]\n",
            " [6 7]]\n",
            "\n",
            "2\n",
            "77\n"
          ]
        }
      ]
    },
    {
      "cell_type": "markdown",
      "source": [
        "## Operazioni algebriche tra vettori\n",
        "Numpy mette a disposizione le più comuni operazioni algebriche attraverso gli operatori visti per le variabili numeriche (+, -, *, /):"
      ],
      "metadata": {
        "id": "tLlNAylLu2K2"
      }
    },
    {
      "cell_type": "code",
      "source": [
        "# Reminder: vector = [0, 1, 2, 3, 4, 5]\n",
        "\n",
        "# Moltiplicazione di un vettore per uno scalare\n",
        "vector_scalar_prod = vector * 5\n",
        "\n",
        "# Divisione di un vettore per uno scalare\n",
        "vector_scalar_div = vector / 5\n",
        "\n",
        "print('Prodotto per uno scalare:\\n', vector_scalar_prod)\n",
        "print('Divisione per uno scalare:\\n', vector_scalar_div)"
      ],
      "metadata": {
        "colab": {
          "base_uri": "https://localhost:8080/"
        },
        "id": "iyhLbLhZu5qj",
        "outputId": "b6ec186c-1ac4-49e7-fbb6-4c8fb4a0eccd"
      },
      "execution_count": 13,
      "outputs": [
        {
          "output_type": "stream",
          "name": "stdout",
          "text": [
            "Prodotto per uno scalare:\n",
            " [ 0  5 10 15 20 25]\n",
            "Divisione per uno scalare:\n",
            " [0.  0.2 0.4 0.6 0.8 1. ]\n"
          ]
        }
      ]
    },
    {
      "cell_type": "code",
      "source": [
        "vect1 = np.array([1,2,6])\n",
        "vect2 = np.array([5,2,3])\n",
        "\n",
        "# Somma tra vettori\n",
        "vector_sum = vect1 + vect2\n",
        "\n",
        "# Sottrazione tra vettori\n",
        "vector_sub = vect1 - vect2\n",
        "\n",
        "print('Somma:\\n', vector_sum)\n",
        "print('Sottrazione:\\n', vector_sub)"
      ],
      "metadata": {
        "colab": {
          "base_uri": "https://localhost:8080/"
        },
        "id": "HArtBAaTu8mT",
        "outputId": "f0cd0884-e264-4548-84d4-7fafbfcefef8"
      },
      "execution_count": 14,
      "outputs": [
        {
          "output_type": "stream",
          "name": "stdout",
          "text": [
            "Somma:\n",
            " [6 4 9]\n",
            "Sottrazione:\n",
            " [-4  0  3]\n"
          ]
        }
      ]
    },
    {
      "cell_type": "markdown",
      "source": [
        "Nota: l'operatore *'+'*, quando applicato a due liste \"native\" di Python, esegue una concatenazione. Tuttavia se lo stesso operatore viene applicato a due **ndarray** quella che si ottiene è una somma algebrica."
      ],
      "metadata": {
        "id": "EDPJcIbXvFm3"
      }
    },
    {
      "cell_type": "markdown",
      "source": [
        "## Operazioni algebriche tra matrici\n",
        "Come già accennato, le matrici possono essere rappresentate tramite **ndarray** di *rank* 2. Numpy mette a disposizione diverse funzioni frequentemente utilizzate nel calcolo matriciale quali: calcolo della trasposta, dell'inversa, del determinante, del prodotto tra matrici, ecc."
      ],
      "metadata": {
        "id": "YdorBY0JvHlD"
      }
    },
    {
      "cell_type": "markdown",
      "source": [
        "### Calcolo della trasposta\n",
        "È possibile calcolare la trasposta di una matrice richiamando il metodo **.transpose(...)**, oppure utilizzando l'attributo **.T**. In alternativa è anche disponibile la relativa funzione di libreria **np.transpose(...)**."
      ],
      "metadata": {
        "id": "iQkXyQZHvNKI"
      }
    },
    {
      "cell_type": "code",
      "source": [
        "matrix = np.array([[0,1,2], [3,4,5]])\n",
        "print('Matrix:\\n', matrix)\n",
        "\n",
        "# Calcolo della trasposta\n",
        "matrix_transp = matrix.transpose()\n",
        "print('\\nTrasposta di matrix:\\n', matrix_transp)\n",
        "print()\n",
        "\n",
        "# In maniera equivalente\n",
        "matrix_transp_T = matrix.T\n",
        "matrix_transp_np = np.transpose(matrix)\n",
        "\n",
        "print(matrix_transp_T)\n",
        "print()\n",
        "print(matrix_transp_np)"
      ],
      "metadata": {
        "colab": {
          "base_uri": "https://localhost:8080/"
        },
        "id": "jzR5uRNCvMuF",
        "outputId": "6d46c3d3-045f-4f3d-9488-d6ccdb2cb6d3"
      },
      "execution_count": 16,
      "outputs": [
        {
          "output_type": "stream",
          "name": "stdout",
          "text": [
            "Matrix:\n",
            " [[0 1 2]\n",
            " [3 4 5]]\n",
            "\n",
            "Trasposta di matrix:\n",
            " [[0 3]\n",
            " [1 4]\n",
            " [2 5]]\n",
            "\n",
            "[[0 3]\n",
            " [1 4]\n",
            " [2 5]]\n",
            "\n",
            "[[0 3]\n",
            " [1 4]\n",
            " [2 5]]\n"
          ]
        }
      ]
    },
    {
      "cell_type": "markdown",
      "source": [
        "### Calcolo dell'inversa\n",
        "È possibile calcolare l'inversa di una matrice utilizzando la funzione di libreria **np.linalg.inv(...)**."
      ],
      "metadata": {
        "id": "9jOCnGjivkuy"
      }
    },
    {
      "cell_type": "code",
      "source": [
        "# Definizione di una matrice quadrata\n",
        "matrix2 = np.array([[12,-1,0],\n",
        "                    [7,6,-5],\n",
        "                    [1,6,9]])\n",
        "\n",
        "# Calcolo dell'inversa\n",
        "matrix2_inv = np.linalg.inv(matrix2)           \n",
        "print('Inversa matrix2:\\n', matrix2_inv)"
      ],
      "metadata": {
        "colab": {
          "base_uri": "https://localhost:8080/"
        },
        "id": "cAi6-gsNvkid",
        "outputId": "78b00778-0e4e-4c76-bd6a-7261e521e009"
      },
      "execution_count": 17,
      "outputs": [
        {
          "output_type": "stream",
          "name": "stdout",
          "text": [
            "Inversa matrix2:\n",
            " [[ 0.07806691  0.00836431  0.00464684]\n",
            " [-0.06319703  0.10037175  0.05576208]\n",
            " [ 0.03345725 -0.06784387  0.07342007]]\n"
          ]
        }
      ]
    },
    {
      "cell_type": "markdown",
      "source": [
        "### Calcolo del determinante\n",
        "È possibile calcolare il determinante di una matrice utilizzando la funzione di libreria **np.linalg.det(...)**."
      ],
      "metadata": {
        "id": "pXWR_5Xqvszw"
      }
    },
    {
      "cell_type": "code",
      "source": [
        "# Calcolo del determinante\n",
        "matrix2_det = np.linalg.det(matrix2)\n",
        "print('Determinante matrix2:', matrix2_det)"
      ],
      "metadata": {
        "colab": {
          "base_uri": "https://localhost:8080/"
        },
        "id": "dDxJ1X8dvvkb",
        "outputId": "ab9c8696-0626-42a0-cca8-598f011c4baf"
      },
      "execution_count": 18,
      "outputs": [
        {
          "output_type": "stream",
          "name": "stdout",
          "text": [
            "Determinante matrix2: 1076.0000000000002\n"
          ]
        }
      ]
    },
    {
      "cell_type": "markdown",
      "source": [
        "### Somma e sottrazione tra matrici\n",
        "Esattamente come visto per i vettori, la somma tra matrici è delegata all'operatore \"**+**\"."
      ],
      "metadata": {
        "id": "Wk0s6Ifcv1rH"
      }
    },
    {
      "cell_type": "code",
      "source": [
        "# Reminder: matrix = np.array([[0,1,2], [3,4,5]])\n",
        "print('matrix:\\n', matrix)\n",
        "print()\n",
        "\n",
        "# Somma e sottrazione (elemento per elemento) di due matrici\n",
        "matrix3 = np.array([[5,2,6],\n",
        "                    [8,12,1]])\n",
        "print('matrix3:\\n', matrix3)\n",
        "print()\n",
        "\n",
        "matrix_sum = matrix + matrix3\n",
        "print('Somma:\\n', matrix_sum)\n",
        "print()\n",
        "\n",
        "matrix_sub = matrix - matrix3\n",
        "print('Sottrazione:\\n', matrix_sub)"
      ],
      "metadata": {
        "colab": {
          "base_uri": "https://localhost:8080/"
        },
        "id": "8ndkroUIv2Zl",
        "outputId": "ae0ce569-63a5-428c-b75e-f9fbbedb86f7"
      },
      "execution_count": 19,
      "outputs": [
        {
          "output_type": "stream",
          "name": "stdout",
          "text": [
            "matrix:\n",
            " [[0 1 2]\n",
            " [3 4 5]]\n",
            "\n",
            "matrix3:\n",
            " [[ 5  2  6]\n",
            " [ 8 12  1]]\n",
            "\n",
            "Somma:\n",
            " [[ 5  3  8]\n",
            " [11 16  6]]\n",
            "\n",
            "Sottrazione:\n",
            " [[-5 -1 -4]\n",
            " [-5 -8  4]]\n"
          ]
        }
      ]
    },
    {
      "cell_type": "markdown",
      "source": [
        "### Moltiplicazione matriciale\n",
        "La moltiplicazione matriciale è affidata al metodo **.dot(...)**. Questo metodo deve essere richiamato sulla matrice sinistra passando come parametro la matrice destra. In alternativa è possibile utilizzare la funzione di libreria **np.dot(...)** oppure l'operatore **@**."
      ],
      "metadata": {
        "id": "CGEEBgVTv9kf"
      }
    },
    {
      "cell_type": "code",
      "source": [
        "# Reminder: matrix = [[0,1,2], \n",
        "#                      [3,4,5]]\n",
        "#\n",
        "#           matrix2 = [[12,-1,0],\n",
        "#                      [7,6,-5],\n",
        "#                      [1,6,9]]\n",
        "print('matrix:\\n', matrix)\n",
        "\n",
        "print('\\nmatrix2:\\n', matrix2)\n",
        "\n",
        "# Moltiplicazione matriciale tra le matrici \"matrix1\" e \"matrix2\"\n",
        "mul1 = matrix.dot(matrix2)\n",
        "print('\\nMoltiplicazione tra matrici:\\n', mul1)\n",
        "print()\n",
        "\n",
        "# In maniera equivalente\n",
        "mul2_dot = np.dot(matrix, matrix2)\n",
        "mul2_at = matrix @ matrix2\n",
        "print(mul2_dot)\n",
        "print()\n",
        "print(mul2_at)"
      ],
      "metadata": {
        "colab": {
          "base_uri": "https://localhost:8080/"
        },
        "id": "KgvIE-cov-QS",
        "outputId": "abe289cc-9a0d-42ad-be81-2da5247264dd"
      },
      "execution_count": 21,
      "outputs": [
        {
          "output_type": "stream",
          "name": "stdout",
          "text": [
            "matrix:\n",
            " [[0 1 2]\n",
            " [3 4 5]]\n",
            "\n",
            "matrix2:\n",
            " [[12 -1  0]\n",
            " [ 7  6 -5]\n",
            " [ 1  6  9]]\n",
            "\n",
            "Moltiplicazione tra matrici:\n",
            " [[ 9 18 13]\n",
            " [69 51 25]]\n",
            "\n",
            "[[ 9 18 13]\n",
            " [69 51 25]]\n",
            "\n",
            "[[ 9 18 13]\n",
            " [69 51 25]]\n"
          ]
        }
      ]
    },
    {
      "cell_type": "markdown",
      "source": [
        "### Prodotto scalare\n",
        "Utilizzando il metodo **.dot(...)** tra un vettore riga e un vettore colonna è possibile calcolare il loro prodotto scalare."
      ],
      "metadata": {
        "id": "U9hop39axRbY"
      }
    },
    {
      "cell_type": "code",
      "source": [
        "# Prodotto scalare di due vettori (riga*colonna)\n",
        "row_vector = column_vector.reshape((1, 6))\n",
        "\n",
        "mul2 = row_vector.dot(column_vector)\n",
        "print('mul2:', mul2)"
      ],
      "metadata": {
        "colab": {
          "base_uri": "https://localhost:8080/"
        },
        "id": "Uvb75Jk3xTL0",
        "outputId": "cf21292c-8343-44d9-fa59-548e77d1b6d8"
      },
      "execution_count": 22,
      "outputs": [
        {
          "output_type": "stream",
          "name": "stdout",
          "text": [
            "mul2: [[55]]\n"
          ]
        }
      ]
    },
    {
      "cell_type": "markdown",
      "source": [
        "Attenzione perchè Numpy non restituisce un valore scalare ma una matrice di dimensione 1x1."
      ],
      "metadata": {
        "id": "17FBnb5fxYrx"
      }
    },
    {
      "cell_type": "code",
      "source": [
        "print(mul2.shape)"
      ],
      "metadata": {
        "colab": {
          "base_uri": "https://localhost:8080/"
        },
        "id": "5CaMZD6RxasC",
        "outputId": "d76e65b8-bdf4-44ad-e973-f845bb7fbf25"
      },
      "execution_count": 23,
      "outputs": [
        {
          "output_type": "stream",
          "name": "stdout",
          "text": [
            "(1, 1)\n"
          ]
        }
      ]
    },
    {
      "cell_type": "markdown",
      "source": [
        "## Media e deviazione standard di un vettore\n",
        "È possibile calcolare media e deviazione standard utilizzando i metodi **.mean(...)** e **.std(...)**."
      ],
      "metadata": {
        "id": "DvaKrrvix5XF"
      }
    },
    {
      "cell_type": "code",
      "source": [
        "print('row_vector:', row_vector)\n",
        "print('Media:', row_vector.mean())\n",
        "print('Deviazione standard:', row_vector.std()) "
      ],
      "metadata": {
        "colab": {
          "base_uri": "https://localhost:8080/"
        },
        "id": "67fviCU4x7k4",
        "outputId": "1c647a18-7aca-45a7-f64e-0b26f77e1228"
      },
      "execution_count": 24,
      "outputs": [
        {
          "output_type": "stream",
          "name": "stdout",
          "text": [
            "row_vector: [[0 1 2 3 4 5]]\n",
            "Media: 2.5\n",
            "Deviazione standard: 1.707825127659933\n"
          ]
        }
      ]
    },
    {
      "cell_type": "markdown",
      "source": [
        "## Trasformazione in scalare\n",
        "È possibile trasformare un **ndarray** 1x1 in uno scalare."
      ],
      "metadata": {
        "id": "ZvJMF2p4yEDh"
      }
    },
    {
      "cell_type": "code",
      "source": [
        "# sc = np.asscalar(mul2)  # Deprecato\n",
        "sc = mul2.item()\n",
        "print('Scalare:', sc)"
      ],
      "metadata": {
        "colab": {
          "base_uri": "https://localhost:8080/"
        },
        "id": "VfQNLnumyHHS",
        "outputId": "e5bf4f39-f4c1-4a24-fe59-868ccf748b28"
      },
      "execution_count": 25,
      "outputs": [
        {
          "output_type": "stream",
          "name": "stdout",
          "text": [
            "Scalare: 55\n"
          ]
        }
      ]
    },
    {
      "cell_type": "markdown",
      "source": [
        "## Prodotto di vettori\n",
        "Il prodotto tra vettori è gestito in maniera diversa a seconda della *shape* dei vettori coinvolti. Se entrambi i vettori hanno rango 2, è possibile usare indistintamente **.dot(...)**, **\\*** o **\\@** per eseguire la loro moltiplicazione algebrica. È possibile ottenere lo stesso risultato anche se il vettore di destra (riga) è di rango 1 (il vettore di sinistra deve comunque essere di rango 2): in questo caso è necessario utilizzare l'operatore **\\*** mentre gli operatori **.dot(...)** e **\\@** restituiranno un errore."
      ],
      "metadata": {
        "id": "yXVUsZPkySmh"
      }
    },
    {
      "cell_type": "code",
      "source": [
        "rank_one_vector = np.array([0, 1, 2, 3, 4, 5])\n",
        "print('column_vector shape:', column_vector.shape)\n",
        "print('row_vector shape:', row_vector.shape)\n",
        "print('rank_one_vector shape:', rank_one_vector.shape)\n",
        "print()\n",
        "\n",
        "# Moltiplicazione algebrica tra vettori: entrambi i vettori di rango 2\n",
        "mul3dot = column_vector.dot(row_vector)\n",
        "mul3at = column_vector @ row_vector # <-- In alternativa\n",
        "mul3asterisk = column_vector * row_vector # <-- In alternativa\n",
        "print('mul3dot:\\n', mul3dot)\n",
        "print()\n",
        "print('mul3at:\\n', mul3at)\n",
        "print()\n",
        "print('mul3asterisk:\\n', mul3asterisk)\n",
        "print()\n",
        "\n",
        "# Moltiplicazione algebrica tra vettori: vettore di destra di rango 1\n",
        "mul4 = column_vector * rank_one_vector\n",
        "# mul4 = column_vector @ rank_one_vector # <-- Errore!\n",
        "# mul4 = column_vector.dot(rank_one_vector) # <-- Errore!\n",
        "print('mul4:\\n', mul4)"
      ],
      "metadata": {
        "colab": {
          "base_uri": "https://localhost:8080/"
        },
        "id": "eLUWrjw_yT-9",
        "outputId": "2b489d9a-fdf5-4741-d54b-89a11af526ac"
      },
      "execution_count": 26,
      "outputs": [
        {
          "output_type": "stream",
          "name": "stdout",
          "text": [
            "column_vector shape: (6, 1)\n",
            "row_vector shape: (1, 6)\n",
            "rank_one_vector shape: (6,)\n",
            "\n",
            "mul3dot:\n",
            " [[ 0  0  0  0  0  0]\n",
            " [ 0  1  2  3  4  5]\n",
            " [ 0  2  4  6  8 10]\n",
            " [ 0  3  6  9 12 15]\n",
            " [ 0  4  8 12 16 20]\n",
            " [ 0  5 10 15 20 25]]\n",
            "\n",
            "mul3at:\n",
            " [[ 0  0  0  0  0  0]\n",
            " [ 0  1  2  3  4  5]\n",
            " [ 0  2  4  6  8 10]\n",
            " [ 0  3  6  9 12 15]\n",
            " [ 0  4  8 12 16 20]\n",
            " [ 0  5 10 15 20 25]]\n",
            "\n",
            "mul3asterisk:\n",
            " [[ 0  0  0  0  0  0]\n",
            " [ 0  1  2  3  4  5]\n",
            " [ 0  2  4  6  8 10]\n",
            " [ 0  3  6  9 12 15]\n",
            " [ 0  4  8 12 16 20]\n",
            " [ 0  5 10 15 20 25]]\n",
            "\n",
            "mul4:\n",
            " [[ 0  0  0  0  0  0]\n",
            " [ 0  1  2  3  4  5]\n",
            " [ 0  2  4  6  8 10]\n",
            " [ 0  3  6  9 12 15]\n",
            " [ 0  4  8 12 16 20]\n",
            " [ 0  5 10 15 20 25]]\n"
          ]
        }
      ]
    },
    {
      "cell_type": "markdown",
      "source": [
        "Si deve prestare particolare attenzione nel caso in cui entrambi i vettori siano di rango 1: \n",
        "- applicando l'operatore **\\@** si otterrà il prodotto scalare (senza la necessità di utilizzare **.asscalar()**);\n",
        "- utilizzando l'operatore **\\*** si otterrà un nuovo vettore ottenuto moltiplicando elemento per elemento i vettori originali."
      ],
      "metadata": {
        "id": "nGRi7q3uyrJ-"
      }
    },
    {
      "cell_type": "code",
      "source": [
        "# Prodotto scalare (senza usare .asscalar())\n",
        "mul5 = rank_one_vector @ rank_one_vector\n",
        "print('mul5:', mul5)\n",
        "\n",
        "# Moltiplicazione elemento per elemento\n",
        "mul6 = rank_one_vector * rank_one_vector\n",
        "print('mul6:', mul6)"
      ],
      "metadata": {
        "colab": {
          "base_uri": "https://localhost:8080/"
        },
        "id": "NZFRotvgytBE",
        "outputId": "6b385684-7139-4a1a-f51c-89f82b708fb4"
      },
      "execution_count": 27,
      "outputs": [
        {
          "output_type": "stream",
          "name": "stdout",
          "text": [
            "mul5: 55\n",
            "mul6: [ 0  1  4  9 16 25]\n"
          ]
        }
      ]
    },
    {
      "cell_type": "markdown",
      "source": [
        "## Somma degli elementi\n",
        "La somma degli elementi è affidata al metodo **.sum(...)** o alla funzione di libreria **np.sum(...)**."
      ],
      "metadata": {
        "id": "cO3OMJMiz16H"
      }
    },
    {
      "cell_type": "code",
      "source": [
        "# Somma degli elementi di un vettore\n",
        "print(row_vector)\n",
        "print('Somma:', row_vector.sum())\n",
        "print()\n",
        "\n",
        "# Reminder: matrix3 = [[5,2,6],\n",
        "#                      [8,12,1]]\n",
        "print('matrix3:\\n', matrix3)\n",
        "print()\n",
        "\n",
        "# Somma degli elementi di una matrice\n",
        "elements_sum = matrix3.sum()\n",
        "print('Somma:', elements_sum)\n",
        "\n",
        "# Somma degli elementi di una matrice per riga\n",
        "elements_row_sum = matrix3.sum(axis=1)\n",
        "print('Somma per riga:', elements_row_sum)\n",
        "\n",
        "# Somma degli elementi di una matrice per colonna\n",
        "elements_column_sum = matrix3.sum(axis=0)\n",
        "print('Somma per colonna:', elements_column_sum)"
      ],
      "metadata": {
        "colab": {
          "base_uri": "https://localhost:8080/"
        },
        "id": "QDyuLswEz3TV",
        "outputId": "716b6bec-891e-4120-a635-768fc79cfc47"
      },
      "execution_count": 28,
      "outputs": [
        {
          "output_type": "stream",
          "name": "stdout",
          "text": [
            "[[0 1 2 3 4 5]]\n",
            "Somma: 15\n",
            "\n",
            "matrix3:\n",
            " [[ 5  2  6]\n",
            " [ 8 12  1]]\n",
            "\n",
            "Somma: 34\n",
            "Somma per riga: [13 21]\n",
            "Somma per colonna: [13 14  7]\n"
          ]
        }
      ]
    },
    {
      "cell_type": "markdown",
      "source": [
        "## Minimi e massimi di una matrice\n",
        "Allo stesso modo è possibile ottenere i minimi e i massimi per riga o colonna utilizzando i metodi **.min(...)** e **.max(...)**. Anche per queste sono disponibili le funzioni di libreria **np.min(...)** e **np.max(...)**."
      ],
      "metadata": {
        "id": "H2-PfauC0A5a"
      }
    },
    {
      "cell_type": "code",
      "source": [
        "row_vector2 = np.array([0, 1, 2, 3, 4, 5])\n",
        "print('row_vector2:', row_vector2)\n",
        "\n",
        "print('Minimo:', row_vector2.min())\n",
        "print('Massimo:', row_vector2.max())\n",
        "print()\n",
        "\n",
        "# Reminder: matrix3 = [[5,2,6],\n",
        "#                      [8,12,1]]\n",
        "print('matrix3:\\n', matrix3)\n",
        "\n",
        "# Minimi delle righe di una matrice\n",
        "mins = matrix3.min(axis=1)\n",
        "print('Minimi delle righe:', mins)\n",
        "\n",
        "# Massimi delle colonne di una matrice\n",
        "maxs = matrix3.max(axis=0)\n",
        "print('Massimi delle colonne:', maxs)"
      ],
      "metadata": {
        "colab": {
          "base_uri": "https://localhost:8080/"
        },
        "id": "dAvEiaOz0crt",
        "outputId": "4750d2a7-2855-4d94-a464-d1dd8d5cb797"
      },
      "execution_count": 29,
      "outputs": [
        {
          "output_type": "stream",
          "name": "stdout",
          "text": [
            "row_vector2: [0 1 2 3 4 5]\n",
            "Minimo: 0\n",
            "Massimo: 5\n",
            "\n",
            "matrix3:\n",
            " [[ 5  2  6]\n",
            " [ 8 12  1]]\n",
            "Minimi delle righe: [2 1]\n",
            "Massimi delle colonne: [ 8 12  6]\n"
          ]
        }
      ]
    },
    {
      "cell_type": "markdown",
      "source": [
        "Se invece si desidera ottenere gli indici di tali elementi, è possibile utilizzare i metodi **.argmin(...)** e **.argmax(...)**."
      ],
      "metadata": {
        "id": "KbIhOtKs07QO"
      }
    },
    {
      "cell_type": "code",
      "source": [
        "# Indici posizionali dei minimi delle righe di una matrice\n",
        "min_indices = matrix3.argmin(axis=1)\n",
        "print('Indici dei minimi:\\n', min_indices)\n",
        "\n",
        "# Indici posizionali dei massimi delle colonne di una matrice\n",
        "max_indices = matrix3.argmax(axis=0)\n",
        "print('Indici dei massimi:\\n', max_indices) "
      ],
      "metadata": {
        "colab": {
          "base_uri": "https://localhost:8080/"
        },
        "id": "pmOZpe28060S",
        "outputId": "d79307fb-99ac-4875-fd37-0162694d8402"
      },
      "execution_count": 30,
      "outputs": [
        {
          "output_type": "stream",
          "name": "stdout",
          "text": [
            "Indici dei minimi:\n",
            " [1 2]\n",
            "Indici dei massimi:\n",
            " [1 1 0]\n"
          ]
        }
      ]
    }
  ]
}