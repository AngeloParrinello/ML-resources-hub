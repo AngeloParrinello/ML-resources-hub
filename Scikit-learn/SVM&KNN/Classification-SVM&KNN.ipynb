{
  "nbformat": 4,
  "nbformat_minor": 0,
  "metadata": {
    "colab": {
      "provenance": []
    },
    "kernelspec": {
      "name": "python3",
      "display_name": "Python 3"
    },
    "language_info": {
      "name": "python"
    }
  },
  "cells": [
    {
      "cell_type": "markdown",
      "source": [
        "# Scikit-learn\n",
        "Scikit-learn è una libreria open source per Python che mette a disposizione numerose classi e funzionalità specifiche per il Machine Learning. Oltre a rendere disponibili i più comuni algoritmi per la classificazione, regressione e clustering, sono presenti anche diverse funzionalità per la manipolazione dei dati.\n",
        "\n",
        "Per una lista completa delle funzionalità si rimanda alla [documentazione ufficiale](http://scikit-learn.org/stable/documentation.html)."
      ],
      "metadata": {
        "id": "fc3B93uY4TpZ"
      }
    },
    {
      "cell_type": "code",
      "source": [
        "# Moduli di scikit-learn\n",
        "from sklearn.neighbors import KNeighborsClassifier\n",
        "from sklearn.svm import SVC\n",
        "from sklearn.dummy import DummyClassifier\n",
        "from sklearn.model_selection import cross_val_score, GridSearchCV, ParameterGrid, train_test_split\n",
        "\n",
        "import ml_utilities\n",
        "import ml_visualization"
      ],
      "metadata": {
        "id": "9GHZRW1NHbR-"
      },
      "execution_count": 5,
      "outputs": []
    },
    {
      "cell_type": "markdown",
      "source": [
        "## Dataset\n",
        "Il dataset messo a disposizione consiste in un insieme di cifre (0-9) scritte a mano.\n",
        "<img src=\"dataset_resample.png\" alt=\"Processing training set\" style=\"width: 600px;\"/>\n",
        "\n",
        "I dataset di training \"pendigits_tr.txt\" e \"pendigits_tr_Pca_K2.txt\" contengono entrambi 7330 pattern etichettati (cifre da 0 a 9). Il primo contiene pattern 16-dimensionali (le coordinate x,y di otto punti equispaziati dopo normalizzazione e *resampling*) mentre il secondo consiste in una versione bidimensionale ottenuta tramite riduzione della dimensionalità (mediante l'algoritmo *Principal Component Analysis*), utile per eseguire test iniziali visualizzando pattern e risultati.\n",
        "\n",
        "Di seguito è fornita la procedura per il caricamento del dataset. È necessario assegnare alla variabile *dataset_path* il percorso dove sono memorizzati i due file. Tramite la variabile *feature_count* è possibile dichiarare quale delle due versioni del dataset si intende utilizzare."
      ],
      "metadata": {
        "id": "bOAOZ_AeH93o"
      }
    }
  ]
}